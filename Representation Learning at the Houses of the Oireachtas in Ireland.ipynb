{
 "cells": [
  {
   "cell_type": "markdown",
   "metadata": {},
   "source": [
    "# Representation Learning at the Houses of the Oireachtas in Ireland\n",
    "\n",
    "\n"
   ]
  },
  {
   "cell_type": "markdown",
   "metadata": {},
   "source": [
    "Notebook dedicated to run representation learning on the Houses of the Oireachtas' data in Ireland.\n",
    "\n",
    "This work is based on a Senator Representations' work of the US Congress by Nathaniel Tucker:\n",
    "\n",
    "https://github.com/knathanieltucker/tf-keras-tutorial/blob/master/SenatorRepresentations.ipynb\n",
    "\n",
    "The Oireachtas is the legislature of the Republic of Ireland.\n",
    "\n",
    "The Oireachtas consists of:\n",
    "- The President of Ireland\n",
    "- The two houses of the Oireachtas:\n",
    "    - Dáil Éireann (lower house)\n",
    "    - Seanad Éireann (upper house)\n",
    "    \n",
    "Further info: https://en.wikipedia.org/wiki/Oireachtas\n",
    "\n",
    "Information regarding the Houses of the Oireachtas is featured on their website, including legislation, and is the copyright of the Houses of the Oireachtas: https://beta.oireachtas.ie/. \n",
    "\n",
    "Another interesting resource is https://www.kildarestreet.com/ which is a searchable archive of everything that's been said in the Dáil and all written parliamentary questions since January 2004, everything in the Seanad since September 2002, and all Committee meetings since September 2012.\n",
    "\n",
    "Open Data from the Houses of the Oireachtas can be accessed via:\n",
    "https://beta.oireachtas.ie/en/open-data/\n",
    "\n",
    "This includes a link to the open data APIs via a Swagger UI:\n",
    "https://api.oireachtas.ie/\n",
    "\n",
    "A vote in the Houses of the Oireachtas is also called a division. We will be looking at this divisions (votings) table for the house and the Seanad (Senate):"
   ]
  },
  {
   "cell_type": "code",
   "execution_count": 1,
   "metadata": {
    "collapsed": true
   },
   "outputs": [],
   "source": [
    "import requests # http://docs.python-requests.org/\n",
    "from BeautifulSoup import BeautifulSoup\n",
    "import json\n",
    "import time\n",
    "import csv\n",
    "import numpy as np"
   ]
  },
  {
   "cell_type": "code",
   "execution_count": 2,
   "metadata": {
    "collapsed": true
   },
   "outputs": [],
   "source": [
    "def get_votings(chamber = 'seanad'):  # chamber: 'seanad' or 'dail' if chamber_type: 'house'\n",
    "    \n",
    "    votings_data = []\n",
    "\n",
    "    table = \"divisions\" # votings table\n",
    "    url = 'https://api.oireachtas.ie/v1/{}'.format(table)\n",
    "    date_start = '1900-01-01'\n",
    "    date_end = '2017-12-31'\n",
    "    chamber_type = 'house' # 'committee' or 'house'\n",
    "\n",
    "    batch = 500\n",
    "    skip = 0\n",
    "    limit = batch\n",
    "    count = 1 # start\n",
    "\n",
    "    while count > 0:\n",
    "\n",
    "        params = dict(chamber_type=chamber_type,\n",
    "                      chamber=chamber, \n",
    "                      date_start=date_start, \n",
    "                      date_end=date_end,\n",
    "                      skip=skip, \n",
    "                      limit=limit)\n",
    "        r = requests.get(url, params=params)\n",
    "\n",
    "        print r.url\n",
    "        # print \"Status Code:\", r.status_code\n",
    "        # print \"Headers:\", r.headers\n",
    "\n",
    "        # Add data from this batch\n",
    "        contents = r.json()\n",
    "\n",
    "        if 'message' in contents and contents['message'] == 'server error':\n",
    "            print 'ERROR RETRIEVING DATA'\n",
    "            return votings_data\n",
    "\n",
    "        # Results    \n",
    "        votings = contents['results'][:batch] # in order not to have duplicates\n",
    "        votings_data.extend(votings)\n",
    "\n",
    "        # Update count, more to retrieve?\n",
    "        count = len(votings)\n",
    "        print 'Number retrieved', count\n",
    "        # Update skip and limit for query\n",
    "        skip += batch\n",
    "        limit += batch\n",
    "\n",
    "        time.sleep(1)\n",
    "        \n",
    "    return votings_data"
   ]
  },
  {
   "cell_type": "markdown",
   "metadata": {},
   "source": [
    "### Seanad Éireann (upper house)"
   ]
  },
  {
   "cell_type": "code",
   "execution_count": 3,
   "metadata": {
    "collapsed": true
   },
   "outputs": [],
   "source": [
    "# seanad_data = get_votings()"
   ]
  },
  {
   "cell_type": "code",
   "execution_count": 4,
   "metadata": {
    "collapsed": true
   },
   "outputs": [],
   "source": [
    "# with open('data/congress/Ireland/seanad_data.json', 'w') as outfile:\n",
    "#      json.dump(seanad_data, outfile)"
   ]
  },
  {
   "cell_type": "code",
   "execution_count": 5,
   "metadata": {
    "collapsed": true
   },
   "outputs": [],
   "source": [
    "seanad_data = json.load(open('data/congress/Ireland/seanad_data.json'))"
   ]
  },
  {
   "cell_type": "markdown",
   "metadata": {},
   "source": [
    "How many votings in the Senate?"
   ]
  },
  {
   "cell_type": "code",
   "execution_count": 6,
   "metadata": {},
   "outputs": [
    {
     "data": {
      "text/plain": [
       "3530"
      ]
     },
     "execution_count": 6,
     "metadata": {},
     "output_type": "execute_result"
    }
   ],
   "source": [
    "len(seanad_data)"
   ]
  },
  {
   "cell_type": "code",
   "execution_count": 7,
   "metadata": {
    "collapsed": true
   },
   "outputs": [],
   "source": [
    "# seanad_data[0]"
   ]
  },
  {
   "cell_type": "markdown",
   "metadata": {},
   "source": [
    "### Dáil Éireann (lower house)"
   ]
  },
  {
   "cell_type": "code",
   "execution_count": 8,
   "metadata": {
    "collapsed": true
   },
   "outputs": [],
   "source": [
    "# dail_data = get_votings(chamber = 'dail')"
   ]
  },
  {
   "cell_type": "code",
   "execution_count": 9,
   "metadata": {
    "collapsed": true
   },
   "outputs": [],
   "source": [
    "# with open('data/congress/Ireland/dail_data.json', 'w') as outfile:\n",
    "#      json.dump(dail_data, outfile)"
   ]
  },
  {
   "cell_type": "code",
   "execution_count": 10,
   "metadata": {
    "collapsed": true
   },
   "outputs": [],
   "source": [
    "dail_data = json.load(open('data/congress/Ireland/dail_data.json'))"
   ]
  },
  {
   "cell_type": "code",
   "execution_count": 11,
   "metadata": {},
   "outputs": [
    {
     "data": {
      "text/plain": [
       "5000"
      ]
     },
     "execution_count": 11,
     "metadata": {},
     "output_type": "execute_result"
    }
   ],
   "source": [
    "len(dail_data)"
   ]
  },
  {
   "cell_type": "markdown",
   "metadata": {},
   "source": [
    "**Note**\n",
    "\n",
    "The division count for the Dail is actually 7,329 but the API does only let me retrieve the first 5,000 votings"
   ]
  },
  {
   "cell_type": "code",
   "execution_count": 12,
   "metadata": {
    "collapsed": true
   },
   "outputs": [],
   "source": [
    "# dail_data[0]"
   ]
  },
  {
   "cell_type": "markdown",
   "metadata": {},
   "source": [
    "Verify there is no duplicates:"
   ]
  },
  {
   "cell_type": "code",
   "execution_count": 13,
   "metadata": {
    "collapsed": true,
    "scrolled": true
   },
   "outputs": [],
   "source": [
    "def verify_no_voting_duplicates(vote_data):\n",
    "    votes = []\n",
    "    duplicates = []\n",
    "    for vote in vote_data:\n",
    "        uri = vote[\"division\"][\"uri\"]\n",
    "        if uri not in votes:\n",
    "            # print uri\n",
    "            votes.append(uri)\n",
    "        else:\n",
    "            duplicates.append(uri)\n",
    "    return len(duplicates)"
   ]
  },
  {
   "cell_type": "code",
   "execution_count": 14,
   "metadata": {},
   "outputs": [
    {
     "data": {
      "text/plain": [
       "0"
      ]
     },
     "execution_count": 14,
     "metadata": {},
     "output_type": "execute_result"
    }
   ],
   "source": [
    "verify_no_voting_duplicates(seanad_data)"
   ]
  },
  {
   "cell_type": "code",
   "execution_count": 15,
   "metadata": {},
   "outputs": [
    {
     "data": {
      "text/plain": [
       "0"
      ]
     },
     "execution_count": 15,
     "metadata": {},
     "output_type": "execute_result"
    }
   ],
   "source": [
    "verify_no_voting_duplicates(dail_data)"
   ]
  },
  {
   "cell_type": "markdown",
   "metadata": {},
   "source": [
    "Get members from the votings:"
   ]
  },
  {
   "cell_type": "code",
   "execution_count": 16,
   "metadata": {
    "collapsed": true
   },
   "outputs": [],
   "source": [
    "def get_members(vote_data):\n",
    "    members = []\n",
    "    for vote in vote_data:\n",
    "        div = vote[\"division\"]\n",
    "        for outcome, voting in div[\"tallies\"].iteritems():            \n",
    "            if voting is not None:\n",
    "                # print voting[\"showAs\"] # Tá (YES), Níl (NO), Staon (Abstention)\n",
    "                # print len(voting[\"members\"])\n",
    "                for member in voting[\"members\"]:\n",
    "                    member = member[\"member\"]\n",
    "                    #last_name, first_name = member[\"showAs\"].split(\",\")\n",
    "                    #first_name = first_name[:-1].strip()\n",
    "                    #last_name = last_name.strip()\n",
    "                    member_code = member[\"memberCode\"]\n",
    "                    # print member_code\n",
    "                    if member_code is not None:\n",
    "                        members.append(member_code)\n",
    "    return members"
   ]
  },
  {
   "cell_type": "markdown",
   "metadata": {},
   "source": [
    "**Senators**"
   ]
  },
  {
   "cell_type": "code",
   "execution_count": 17,
   "metadata": {
    "collapsed": true
   },
   "outputs": [],
   "source": [
    "senators = get_members(seanad_data)"
   ]
  },
  {
   "cell_type": "code",
   "execution_count": 18,
   "metadata": {},
   "outputs": [
    {
     "data": {
      "text/plain": [
       "u'Paudie-Coffey.S.2007-07-23'"
      ]
     },
     "execution_count": 18,
     "metadata": {},
     "output_type": "execute_result"
    }
   ],
   "source": [
    "senators[3]"
   ]
  },
  {
   "cell_type": "code",
   "execution_count": 19,
   "metadata": {},
   "outputs": [
    {
     "data": {
      "text/plain": [
       "197"
      ]
     },
     "execution_count": 19,
     "metadata": {},
     "output_type": "execute_result"
    }
   ],
   "source": [
    "len(set(senators))"
   ]
  },
  {
   "cell_type": "markdown",
   "metadata": {},
   "source": [
    "**Deputies**"
   ]
  },
  {
   "cell_type": "code",
   "execution_count": 20,
   "metadata": {
    "collapsed": true
   },
   "outputs": [],
   "source": [
    "deputies = get_members(dail_data)"
   ]
  },
  {
   "cell_type": "code",
   "execution_count": 21,
   "metadata": {},
   "outputs": [
    {
     "data": {
      "text/plain": [
       "u'Thomas-P-Broughan.D.1992-12-14'"
      ]
     },
     "execution_count": 21,
     "metadata": {},
     "output_type": "execute_result"
    }
   ],
   "source": [
    "deputies[2]"
   ]
  },
  {
   "cell_type": "code",
   "execution_count": 22,
   "metadata": {},
   "outputs": [
    {
     "data": {
      "text/plain": [
       "372"
      ]
     },
     "execution_count": 22,
     "metadata": {},
     "output_type": "execute_result"
    }
   ],
   "source": [
    "len(set(deputies))"
   ]
  },
  {
   "cell_type": "markdown",
   "metadata": {},
   "source": [
    "All members:"
   ]
  },
  {
   "cell_type": "code",
   "execution_count": 23,
   "metadata": {
    "collapsed": true
   },
   "outputs": [],
   "source": [
    "all_members = list(senators) # copy list\n",
    "all_members.extend(deputies)"
   ]
  },
  {
   "cell_type": "code",
   "execution_count": 24,
   "metadata": {},
   "outputs": [
    {
     "data": {
      "text/plain": [
       "478"
      ]
     },
     "execution_count": 24,
     "metadata": {},
     "output_type": "execute_result"
    }
   ],
   "source": [
    "len(set(all_members))"
   ]
  },
  {
   "cell_type": "code",
   "execution_count": 25,
   "metadata": {},
   "outputs": [],
   "source": [
    "# for v, k in enumerate(set(all_members)):\n",
    "#     print v, k"
   ]
  },
  {
   "cell_type": "code",
   "execution_count": 26,
   "metadata": {
    "collapsed": true
   },
   "outputs": [],
   "source": [
    "# leave the first two blank for padding and not a member\n",
    "member_to_id = { k: v + 2 for v, k in enumerate(set(all_members)) }"
   ]
  },
  {
   "cell_type": "code",
   "execution_count": 27,
   "metadata": {},
   "outputs": [],
   "source": [
    "# member_to_id"
   ]
  },
  {
   "cell_type": "code",
   "execution_count": 28,
   "metadata": {
    "collapsed": true
   },
   "outputs": [],
   "source": [
    "senator_to_id = { k: v + 2 for v, k in enumerate(set(senators)) }\n",
    "deputy_to_id = { k: v + 2 for v, k in enumerate(set(deputies)) }"
   ]
  },
  {
   "cell_type": "code",
   "execution_count": 29,
   "metadata": {},
   "outputs": [
    {
     "data": {
      "text/plain": [
       "(197, 372)"
      ]
     },
     "execution_count": 29,
     "metadata": {},
     "output_type": "execute_result"
    }
   ],
   "source": [
    "len(senator_to_id), len(deputy_to_id)"
   ]
  },
  {
   "cell_type": "code",
   "execution_count": 30,
   "metadata": {
    "collapsed": true
   },
   "outputs": [],
   "source": [
    "def get_member_id(name, collection):\n",
    "    name = name.replace(\" \", \"-\").replace(\".\", \"\")\n",
    "    sens = [k for k, v in collection.iteritems() if k is not None and k.startswith(name)]\n",
    "    if len(sens) > 0:\n",
    "        return collection[sens[0]]\n",
    "    return 1"
   ]
  },
  {
   "cell_type": "code",
   "execution_count": 31,
   "metadata": {},
   "outputs": [
    {
     "data": {
      "text/plain": [
       "445"
      ]
     },
     "execution_count": 31,
     "metadata": {},
     "output_type": "execute_result"
    }
   ],
   "source": [
    "get_member_id('Aideen Hayden', member_to_id)"
   ]
  },
  {
   "cell_type": "code",
   "execution_count": 32,
   "metadata": {},
   "outputs": [
    {
     "data": {
      "text/plain": [
       "(133, 1)"
      ]
     },
     "execution_count": 32,
     "metadata": {},
     "output_type": "execute_result"
    }
   ],
   "source": [
    "get_member_id('Aideen Hayden', senator_to_id), get_member_id('Aideen Hayden', deputy_to_id)"
   ]
  },
  {
   "cell_type": "code",
   "execution_count": 33,
   "metadata": {
    "collapsed": true
   },
   "outputs": [],
   "source": [
    "def get_member_party(name):\n",
    "    page = requests.get('https://beta.oireachtas.ie/en/members/member/%s/' % (name)).text\n",
    "    # dom = web.Element(page)\n",
    "    # party = dom.content.split('<p class=\"bio-text\">Party:</p> <p>')[1].split('</p')[0].strip()\n",
    "    bs = BeautifulSoup(page)\n",
    "    party = bs.find(text=\"Party:\").findNext('p').contents[0].strip()\n",
    "    return party"
   ]
  },
  {
   "cell_type": "code",
   "execution_count": 34,
   "metadata": {},
   "outputs": [
    {
     "data": {
      "text/plain": [
       "(u'Victor-Boyhan.S.2016-04-25', u'Independent')"
      ]
     },
     "execution_count": 34,
     "metadata": {},
     "output_type": "execute_result"
    }
   ],
   "source": [
    "all_members[0], get_member_party(all_members[0])"
   ]
  },
  {
   "cell_type": "code",
   "execution_count": 35,
   "metadata": {},
   "outputs": [
    {
     "data": {
      "text/plain": [
       "(u'Brian-\\xd3-Domhnaill.S.2007-07-23', u'Fianna F\\xe1il')"
      ]
     },
     "execution_count": 35,
     "metadata": {},
     "output_type": "execute_result"
    }
   ],
   "source": [
    "all_members[17], get_member_party(all_members[17])"
   ]
  },
  {
   "cell_type": "code",
   "execution_count": 36,
   "metadata": {
    "collapsed": true
   },
   "outputs": [],
   "source": [
    "parties = {}\n",
    "for member in set(all_members):\n",
    "    parties[member] = get_member_party(member)"
   ]
  },
  {
   "cell_type": "code",
   "execution_count": 37,
   "metadata": {},
   "outputs": [],
   "source": [
    "# parties"
   ]
  },
  {
   "cell_type": "code",
   "execution_count": 38,
   "metadata": {},
   "outputs": [
    {
     "data": {
      "text/plain": [
       "{u'Anti-Austerity Alliance - People Before Profit',\n",
       " u'Ceann Comhairle',\n",
       " u'Fianna F\\xe1il',\n",
       " u'Fine Gael',\n",
       " u'Green Party',\n",
       " u'Independent',\n",
       " u'Independents 4 Change',\n",
       " u'Labour',\n",
       " u'Labour Party',\n",
       " u'Progressive Democrats',\n",
       " u'Renua',\n",
       " u'Sinn F\\xe9in',\n",
       " u'Social Democrats',\n",
       " u'Socialist Party',\n",
       " u'Solidarity - People Before Profit'}"
      ]
     },
     "execution_count": 38,
     "metadata": {},
     "output_type": "execute_result"
    }
   ],
   "source": [
    "set(val for val in parties.values())"
   ]
  },
  {
   "cell_type": "code",
   "execution_count": 39,
   "metadata": {},
   "outputs": [
    {
     "data": {
      "text/plain": [
       "Counter({u'Anti-Austerity Alliance - People Before Profit': 2,\n",
       "         u'Ceann Comhairle': 1,\n",
       "         u'Fianna F\\xe1il': 165,\n",
       "         u'Fine Gael': 122,\n",
       "         u'Green Party': 12,\n",
       "         u'Independent': 64,\n",
       "         u'Independents 4 Change': 3,\n",
       "         u'Labour': 12,\n",
       "         u'Labour Party': 45,\n",
       "         u'Progressive Democrats': 9,\n",
       "         u'Renua': 3,\n",
       "         u'Sinn F\\xe9in': 33,\n",
       "         u'Social Democrats': 2,\n",
       "         u'Socialist Party': 1,\n",
       "         u'Solidarity - People Before Profit': 4})"
      ]
     },
     "execution_count": 39,
     "metadata": {},
     "output_type": "execute_result"
    }
   ],
   "source": [
    "from collections import Counter\n",
    "Counter([v for v in parties.values()])"
   ]
  },
  {
   "cell_type": "markdown",
   "metadata": {},
   "source": [
    "**Extracting sponsors and members against a bill**\n",
    "\n",
    "The following function encapsulates the extract of sponsors and members against a bill based on a line of text manually inputed and in several formats:"
   ]
  },
  {
   "cell_type": "code",
   "execution_count": 40,
   "metadata": {
    "collapsed": true
   },
   "outputs": [],
   "source": [
    "# Sponsors and members against a Bill are specified in a text line where we will extract:\n",
    "# 2 members that sponsored the bill\n",
    "# 2 members that opposed to the bill\n",
    "def get_sponsors(tellers_data, collection):\n",
    "    \n",
    "    #print tellers_data\n",
    "    \n",
    "    sp_first, sp_second, ag_first, ag_second = None, None, None, None\n",
    "    \n",
    "    if \";\" in tellers_data:\n",
    "        \n",
    "        tellers = tellers_data.split(\";\")\n",
    "        \n",
    "        for teller in tellers:\n",
    "            \n",
    "            if teller.strip() == \"\":\n",
    "                continue\n",
    "            if \"Tellers:\" in teller:\n",
    "                teller = teller.split(\"Tellers:\")[1].strip()\n",
    "            elif \":\" in teller:\n",
    "                teller = teller.split(\":\")[1].strip()\n",
    "\n",
    "            if \",\" in teller:\n",
    "                values = teller.split(\",\")\n",
    "            elif \":\" in teller:\n",
    "                values = teller.split(\":\")\n",
    "            else:\n",
    "                #print \"Bad format\"\n",
    "                continue\n",
    "            if len(values) != 2:\n",
    "                #print \"BAD format\"\n",
    "                continue\n",
    "                \n",
    "            support, senators = values\n",
    "\n",
    "            if \"Senators\" in senators:\n",
    "                senators = senators.split(\"Senators\")\n",
    "                senators = senators[-1]\n",
    "                \n",
    "            if \" and\" in senators:\n",
    "                senators = senators.split(\" and\")\n",
    "            elif \"and \" in senators:\n",
    "                senators = senators.split(\"and \")\n",
    "            elif \"an d\":\n",
    "                senators = senators.split(\"an d\")\n",
    "            else:\n",
    "                senators = senators.split(\"and\")\n",
    "            \n",
    "            if len(senators) > 1:\n",
    "                first_senator, second_senator = senators[:2]\n",
    "                second_senator = second_senator.strip()\n",
    "            else:\n",
    "                first_senator = senators[0]\n",
    "                first_senator = first_senator.strip()\n",
    "                second_senator = \"None\"\n",
    "            \n",
    "            support = support.strip()\n",
    "\n",
    "            if support.encode('utf-8') == str('T\\xc3\\xa1'):\n",
    "                sp_first = get_member_id(first_senator, collection)\n",
    "                sp_second = get_member_id(second_senator, collection)\n",
    "                # print \"Sponsors\", first_senator, sp_first, second_senator, sp_second\n",
    "            elif support.encode('utf-8') == str('N\\xc3\\xadl'):\n",
    "                ag_first = get_member_id(first_senator, collection)\n",
    "                ag_second = get_member_id(second_senator, collection)\n",
    "                # print \"Against\", first_senator, ag_first, second_senator, ag_second\n",
    "                \n",
    "    return sp_first, sp_second, ag_first, ag_second "
   ]
  },
  {
   "cell_type": "code",
   "execution_count": 41,
   "metadata": {
    "collapsed": true
   },
   "outputs": [],
   "source": [
    "# Not all members will appear on the votings \n",
    "member_id_to_displayname = {}\n",
    "senator_id_to_displayname = {}\n",
    "deputy_id_to_displayname = {}\n",
    "for member_code in set(all_members):\n",
    "    member_id = member_to_id[member_code]\n",
    "    name = member_code\n",
    "    party = parties[name]\n",
    "    if name is not None and '.' in name:\n",
    "        name = name.split('.')[0].split('-')[-1] # last name\n",
    "    if party is not None:\n",
    "        name = name + \", \" + party\n",
    "    member_id_to_displayname[member_id] = name\n",
    "    if member_code in senators:\n",
    "        senator_id = senator_to_id[member_code]\n",
    "        senator_id_to_displayname[senator_id] = name\n",
    "    if member_code in deputies:\n",
    "        deputy_id = deputy_to_id[member_code]\n",
    "        deputy_id_to_displayname[deputy_id] = name"
   ]
  },
  {
   "cell_type": "code",
   "execution_count": 42,
   "metadata": {},
   "outputs": [],
   "source": [
    "# member_id_to_displayname"
   ]
  },
  {
   "cell_type": "code",
   "execution_count": 43,
   "metadata": {
    "collapsed": true
   },
   "outputs": [],
   "source": [
    "# senator_id_to_displayname"
   ]
  },
  {
   "cell_type": "code",
   "execution_count": 44,
   "metadata": {
    "collapsed": true
   },
   "outputs": [],
   "source": [
    "# deputy_id_to_displayname"
   ]
  },
  {
   "cell_type": "code",
   "execution_count": 45,
   "metadata": {},
   "outputs": [
    {
     "data": {
      "text/plain": [
       "(478, 197, 372)"
      ]
     },
     "execution_count": 45,
     "metadata": {},
     "output_type": "execute_result"
    }
   ],
   "source": [
    "len(member_id_to_displayname), len(senator_id_to_displayname), len(deputy_id_to_displayname)"
   ]
  },
  {
   "cell_type": "code",
   "execution_count": 46,
   "metadata": {
    "collapsed": true
   },
   "outputs": [],
   "source": [
    "def get_vote_data(data, collection_to_ids, display_names):\n",
    "\n",
    "    votings = []\n",
    "    added, not_added = 0, 0\n",
    "\n",
    "    for vote in data:\n",
    "\n",
    "        div = vote[\"division\"]\n",
    "        #outcome = div[\"outcome\"] # Carried, Lost, _\n",
    "        #print div[\"date\"]\n",
    "        #print div[\"isBill\"]\n",
    "        #print div[\"category\"]\n",
    "        #print div[\"chamber\"][\"showAs\"]\n",
    "        #print div[\"debate\"][\"showAs\"]\n",
    "\n",
    "        # Bill sponsors\n",
    "        sponsors = get_sponsors(div[\"tellers\"], collection_to_ids)\n",
    "\n",
    "        if None not in sponsors:\n",
    "\n",
    "            sponsor, cosponsor, against, coagainst = sponsors\n",
    "\n",
    "            tallies = div[\"tallies\"]\n",
    "\n",
    "            if tallies[\"taVotes\"] is not None:\n",
    "                for member in tallies[\"taVotes\"][\"members\"]:\n",
    "                    member = member[\"member\"]\n",
    "                    name = member[\"showAs\"]\n",
    "                    last_name = name.split(',')[0]\n",
    "                    #uri = member[\"uri\"]\n",
    "                    #short = member[\"memberCode\"]\n",
    "                    if member[\"memberCode\"] is not None:\n",
    "                        member_id = collection_to_ids[member[\"memberCode\"]]\n",
    "                        party = parties[member[\"memberCode\"]]\n",
    "                        display_names[member_id] = last_name + \", \" + party # replace names with utf8 encoding names\n",
    "                        votings.append((1, member_id, sponsor, [cosponsor, against, coagainst])) \n",
    "\n",
    "            if tallies[\"nilVotes\"] is not None:\n",
    "                \n",
    "                for member in tallies[\"nilVotes\"][\"members\"]:\n",
    "                    member = member[\"member\"]\n",
    "                    name = member[\"showAs\"]\n",
    "                    last_name = name.split(',')[0]\n",
    "                    if member[\"memberCode\"] is not None:\n",
    "                        member_id = collection_to_ids[member[\"memberCode\"]]\n",
    "                        party = parties[member[\"memberCode\"]]\n",
    "                        display_names[member_id] = last_name + \", \" + party\n",
    "                        votings.append((0, member_id, sponsor, [cosponsor, against, coagainst]))   \n",
    "\n",
    "            added += 1\n",
    "\n",
    "        else: # Votings that could not be added\n",
    "\n",
    "            not_added += 1\n",
    "            \n",
    "    return votings, added, not_added"
   ]
  },
  {
   "cell_type": "code",
   "execution_count": 47,
   "metadata": {
    "collapsed": true,
    "scrolled": true
   },
   "outputs": [],
   "source": [
    "seanad_votings, added, not_added = get_vote_data(seanad_data, senator_to_id, senator_id_to_displayname)"
   ]
  },
  {
   "cell_type": "code",
   "execution_count": 48,
   "metadata": {},
   "outputs": [
    {
     "data": {
      "text/plain": [
       "(75487, 2802, 728)"
      ]
     },
     "execution_count": 48,
     "metadata": {},
     "output_type": "execute_result"
    }
   ],
   "source": [
    "len(seanad_votings), added, not_added"
   ]
  },
  {
   "cell_type": "code",
   "execution_count": 49,
   "metadata": {
    "scrolled": true
   },
   "outputs": [],
   "source": [
    "# seanad_votings"
   ]
  },
  {
   "cell_type": "code",
   "execution_count": 50,
   "metadata": {
    "collapsed": true
   },
   "outputs": [],
   "source": [
    "dail_votings, added, not_added = get_vote_data(dail_data, deputy_to_id, deputy_id_to_displayname)"
   ]
  },
  {
   "cell_type": "code",
   "execution_count": 51,
   "metadata": {},
   "outputs": [
    {
     "data": {
      "text/plain": [
       "(148744, 3574, 1426)"
      ]
     },
     "execution_count": 51,
     "metadata": {},
     "output_type": "execute_result"
    }
   ],
   "source": [
    "len(dail_votings), added, not_added"
   ]
  },
  {
   "cell_type": "code",
   "execution_count": 52,
   "metadata": {},
   "outputs": [],
   "source": [
    "# dail_votings"
   ]
  },
  {
   "cell_type": "code",
   "execution_count": 53,
   "metadata": {},
   "outputs": [
    {
     "data": {
      "text/plain": [
       "(75487, 148744)"
      ]
     },
     "execution_count": 53,
     "metadata": {},
     "output_type": "execute_result"
    }
   ],
   "source": [
    "len(seanad_votings), len(dail_votings)"
   ]
  },
  {
   "cell_type": "markdown",
   "metadata": {},
   "source": [
    "### Senate votings"
   ]
  },
  {
   "cell_type": "markdown",
   "metadata": {},
   "source": [
    "~75 examples of (vote, senator voting, sponsor, cosponsor, against, coagainst) tuples is pretty good."
   ]
  },
  {
   "cell_type": "code",
   "execution_count": 54,
   "metadata": {
    "collapsed": true
   },
   "outputs": [],
   "source": [
    "y = [d[0] for d in seanad_votings]"
   ]
  },
  {
   "cell_type": "code",
   "execution_count": 55,
   "metadata": {},
   "outputs": [
    {
     "data": {
      "text/plain": [
       "Counter({0: 36729, 1: 38758})"
      ]
     },
     "execution_count": 55,
     "metadata": {},
     "output_type": "execute_result"
    }
   ],
   "source": [
    "# len(y)\n",
    "Counter(y)"
   ]
  },
  {
   "cell_type": "code",
   "execution_count": 56,
   "metadata": {
    "collapsed": true
   },
   "outputs": [],
   "source": [
    "# again we pad\n",
    "def pad_or_crop(lst, l=10):\n",
    "    return (lst + [0] * l)[:10]"
   ]
  },
  {
   "cell_type": "code",
   "execution_count": 57,
   "metadata": {
    "collapsed": true
   },
   "outputs": [],
   "source": [
    "x_1 = np.array(map(lambda x: x[1], seanad_votings))\n",
    "x_2 = np.array(map(lambda x: x[2], seanad_votings))\n",
    "x_3 = np.array(map(lambda x: pad_or_crop(x[3]), seanad_votings))\n",
    "x = [x_1, x_2, x_3]"
   ]
  },
  {
   "cell_type": "code",
   "execution_count": 58,
   "metadata": {
    "collapsed": true
   },
   "outputs": [],
   "source": [
    "# x"
   ]
  },
  {
   "cell_type": "code",
   "execution_count": 59,
   "metadata": {
    "collapsed": true
   },
   "outputs": [],
   "source": [
    "# len(x)"
   ]
  },
  {
   "cell_type": "code",
   "execution_count": 60,
   "metadata": {
    "collapsed": true
   },
   "outputs": [],
   "source": [
    "# we add in padding and unknown senators\n",
    "senator_id_to_displayname[0] = '<PAD>'\n",
    "senator_id_to_displayname[1] = '<NOT A SENATOR>'"
   ]
  },
  {
   "cell_type": "code",
   "execution_count": 61,
   "metadata": {
    "collapsed": true
   },
   "outputs": [],
   "source": [
    "# senator_id_to_displayname"
   ]
  },
  {
   "cell_type": "code",
   "execution_count": 62,
   "metadata": {},
   "outputs": [
    {
     "data": {
      "text/plain": [
       "199"
      ]
     },
     "execution_count": 62,
     "metadata": {},
     "output_type": "execute_result"
    }
   ],
   "source": [
    "# this gives us how many representations:\n",
    "len(senator_id_to_displayname)"
   ]
  },
  {
   "cell_type": "code",
   "execution_count": 63,
   "metadata": {
    "collapsed": true
   },
   "outputs": [],
   "source": [
    "# we again need to write down the metadata\n",
    "with open('data/congress/Ireland/senator_metadata.csv', 'wb') as csvfile:\n",
    "    writer = csv.writer(csvfile, delimiter='\\t')\n",
    "    for key, value in sorted(senator_id_to_displayname.items()):\n",
    "        writer.writerow([value.encode('utf8')])"
   ]
  },
  {
   "cell_type": "code",
   "execution_count": 64,
   "metadata": {},
   "outputs": [
    {
     "name": "stderr",
     "output_type": "stream",
     "text": [
      "Using TensorFlow backend.\n"
     ]
    }
   ],
   "source": [
    "# finally we build our model\n",
    "from keras.layers import concatenate\n",
    "from keras.layers import Dense, Input, Flatten\n",
    "from keras.layers import MaxPooling1D, Embedding\n",
    "\n",
    "embedding_layer = Embedding(len(senator_id_to_displayname), 100)\n",
    "\n",
    "# train a 1D convnet with global maxpooling\n",
    "voting = voting_input = Input(shape=(1,), dtype='int32')\n",
    "voting = embedding_layer(voting)\n",
    "voting = Dense(32, activation='relu')(voting)\n",
    "voting = Dense(32, activation='relu')(voting)\n",
    "\n",
    "sponsor = sponsor_input = Input(shape=(1,), dtype='int32')\n",
    "sponsor = embedding_layer(sponsor)\n",
    "sponsor = Dense(32, activation='relu')(sponsor)\n",
    "sponsor = Dense(32, activation='relu')(sponsor)\n",
    "\n",
    "cosponsor = cosponsor_input = Input(shape=(10,), dtype='int32')\n",
    "cosponsor = embedding_layer(cosponsor)\n",
    "cosponsor = MaxPooling1D(10)(cosponsor)\n",
    "cosponsor = Dense(32, activation='relu')(cosponsor)\n",
    "cosponsor = Dense(32, activation='relu')(cosponsor)\n",
    "\n",
    "combined = concatenate([voting, sponsor, cosponsor])\n",
    "combined = Dense(32, activation='relu')(combined)\n",
    "combined = Dense(1, activation='sigmoid')(combined)"
   ]
  },
  {
   "cell_type": "code",
   "execution_count": 65,
   "metadata": {},
   "outputs": [
    {
     "name": "stdout",
     "output_type": "stream",
     "text": [
      "Train on 60389 samples, validate on 15098 samples\n",
      "Epoch 1/10\n",
      "60389/60389 [==============================] - 4s 72us/step - loss: 0.6904 - acc: 0.5240 - val_loss: 0.6952 - val_acc: 0.5114\n",
      "Epoch 2/10\n",
      "60389/60389 [==============================] - 4s 74us/step - loss: 0.6617 - acc: 0.5893 - val_loss: 0.7434 - val_acc: 0.5074\n",
      "Epoch 3/10\n",
      "60389/60389 [==============================] - 6s 94us/step - loss: 0.6389 - acc: 0.6101 - val_loss: 0.7659 - val_acc: 0.5181\n",
      "Epoch 4/10\n",
      "60389/60389 [==============================] - 5s 91us/step - loss: 0.6308 - acc: 0.6103 - val_loss: 0.7892 - val_acc: 0.5244\n",
      "Epoch 5/10\n",
      "60389/60389 [==============================] - 4s 63us/step - loss: 0.6260 - acc: 0.6160 - val_loss: 0.7906 - val_acc: 0.5307\n",
      "Epoch 6/10\n",
      "60389/60389 [==============================] - 4s 66us/step - loss: 0.6241 - acc: 0.6145 - val_loss: 0.8040 - val_acc: 0.5256\n",
      "Epoch 7/10\n",
      "60389/60389 [==============================] - 4s 69us/step - loss: 0.6217 - acc: 0.6153 - val_loss: 0.8101 - val_acc: 0.5422\n",
      "Epoch 8/10\n",
      "60389/60389 [==============================] - 4s 68us/step - loss: 0.6205 - acc: 0.6193 - val_loss: 0.8183 - val_acc: 0.5095\n",
      "Epoch 9/10\n",
      "60389/60389 [==============================] - 4s 60us/step - loss: 0.6192 - acc: 0.6198 - val_loss: 0.8248 - val_acc: 0.5205\n",
      "Epoch 10/10\n",
      "60389/60389 [==============================] - 5s 80us/step - loss: 0.6187 - acc: 0.6187 - val_loss: 0.8311 - val_acc: 0.5098\n"
     ]
    },
    {
     "data": {
      "text/plain": [
       "<keras.callbacks.History at 0x1845ab0350>"
      ]
     },
     "execution_count": 65,
     "metadata": {},
     "output_type": "execute_result"
    }
   ],
   "source": [
    "from keras.models import Model\n",
    "from keras.callbacks import TensorBoard\n",
    "\n",
    "model = Model([voting_input, sponsor_input, cosponsor_input], combined)\n",
    "\n",
    "model.compile(loss='binary_crossentropy',\n",
    "              optimizer='rmsprop',\n",
    "              metrics=['acc'])\n",
    "\n",
    "embedding_metadata = {\n",
    "    embedding_layer.name: '../senator_metadata.csv'\n",
    "}\n",
    "\n",
    "model.fit([x_1, x_2, x_3], np.array(y).reshape(-1, 1, 1),\n",
    "          batch_size=128,\n",
    "          epochs=10,\n",
    "          validation_split=0.2,\n",
    "          callbacks=[TensorBoard(log_dir='data/congress/Ireland/senator_reps', \n",
    "                                 embeddings_freq=1,\n",
    "                                 embeddings_metadata=embedding_metadata)])"
   ]
  },
  {
   "cell_type": "markdown",
   "metadata": {},
   "source": [
    "In data/congress/Ireland, launch TensorBoard:\n",
    "    \n",
    "> $ tensorboard --logdir=senator_reps/\n",
    "\n",
    "Go to TensorBoard:\n",
    "\n",
    "> http://localhost:6006/#projector\n",
    "        \n",
    "In TensorBoard, we can look at the representations created in our model using t-SNE or PCA."
   ]
  },
  {
   "cell_type": "markdown",
   "metadata": {},
   "source": [
    "### Dail votings"
   ]
  },
  {
   "cell_type": "markdown",
   "metadata": {},
   "source": [
    "~150K examples of (vote, senator voting, sponsor, cosponsor, against, coagainst) tuples. Around two times the senate votes scrapped."
   ]
  },
  {
   "cell_type": "code",
   "execution_count": 66,
   "metadata": {
    "collapsed": true
   },
   "outputs": [],
   "source": [
    "y = [d[0] for d in dail_votings]"
   ]
  },
  {
   "cell_type": "code",
   "execution_count": 67,
   "metadata": {},
   "outputs": [
    {
     "data": {
      "text/plain": [
       "Counter({0: 69948, 1: 78796})"
      ]
     },
     "execution_count": 67,
     "metadata": {},
     "output_type": "execute_result"
    }
   ],
   "source": [
    "# len(y)\n",
    "Counter(y)"
   ]
  },
  {
   "cell_type": "code",
   "execution_count": 68,
   "metadata": {
    "collapsed": true
   },
   "outputs": [],
   "source": [
    "x_1 = np.array(map(lambda x: x[1], dail_votings))\n",
    "x_2 = np.array(map(lambda x: x[2], dail_votings))\n",
    "x_3 = np.array(map(lambda x: pad_or_crop(x[3]), dail_votings))\n",
    "x = [x_1, x_2, x_3]"
   ]
  },
  {
   "cell_type": "code",
   "execution_count": 69,
   "metadata": {
    "collapsed": true
   },
   "outputs": [],
   "source": [
    "# we add in padding and unknown senators\n",
    "deputy_id_to_displayname[0] = '<PAD>'\n",
    "deputy_id_to_displayname[1] = '<NOT A DEPUTY>'"
   ]
  },
  {
   "cell_type": "code",
   "execution_count": 70,
   "metadata": {
    "collapsed": true
   },
   "outputs": [],
   "source": [
    "# deputy_id_to_displayname"
   ]
  },
  {
   "cell_type": "code",
   "execution_count": 71,
   "metadata": {},
   "outputs": [
    {
     "data": {
      "text/plain": [
       "374"
      ]
     },
     "execution_count": 71,
     "metadata": {},
     "output_type": "execute_result"
    }
   ],
   "source": [
    "len(deputy_id_to_displayname)"
   ]
  },
  {
   "cell_type": "code",
   "execution_count": 72,
   "metadata": {
    "collapsed": true
   },
   "outputs": [],
   "source": [
    "# we again need to write down the metadata\n",
    "with open('data/congress/Ireland/deputy_metadata.csv', 'wb') as csvfile:\n",
    "    writer = csv.writer(csvfile, delimiter='\\t')\n",
    "    for key, value in sorted(deputy_id_to_displayname.items()):\n",
    "        writer.writerow([value.encode('utf8')])"
   ]
  },
  {
   "cell_type": "code",
   "execution_count": 73,
   "metadata": {
    "collapsed": true
   },
   "outputs": [],
   "source": [
    "# finally we build our model\n",
    "from keras.layers import concatenate\n",
    "from keras.layers import Dense, Input, Flatten\n",
    "from keras.layers import MaxPooling1D, Embedding\n",
    "\n",
    "embedding_layer = Embedding(len(deputy_id_to_displayname), 100)\n",
    "\n",
    "# train a 1D convnet with global maxpooling\n",
    "voting = voting_input = Input(shape=(1,), dtype='int32')\n",
    "voting = embedding_layer(voting)\n",
    "voting = Dense(32, activation='relu')(voting)\n",
    "voting = Dense(32, activation='relu')(voting)\n",
    "\n",
    "sponsor = sponsor_input = Input(shape=(1,), dtype='int32')\n",
    "sponsor = embedding_layer(sponsor)\n",
    "sponsor = Dense(32, activation='relu')(sponsor)\n",
    "sponsor = Dense(32, activation='relu')(sponsor)\n",
    "\n",
    "cosponsor = cosponsor_input = Input(shape=(10,), dtype='int32')\n",
    "cosponsor = embedding_layer(cosponsor)\n",
    "cosponsor = MaxPooling1D(10)(cosponsor)\n",
    "cosponsor = Dense(32, activation='relu')(cosponsor)\n",
    "cosponsor = Dense(32, activation='relu')(cosponsor)\n",
    "\n",
    "combined = concatenate([voting, sponsor, cosponsor])\n",
    "combined = Dense(32, activation='relu')(combined)\n",
    "combined = Dense(1, activation='sigmoid')(combined)"
   ]
  },
  {
   "cell_type": "code",
   "execution_count": 74,
   "metadata": {},
   "outputs": [
    {
     "name": "stdout",
     "output_type": "stream",
     "text": [
      "Train on 118995 samples, validate on 29749 samples\n",
      "Epoch 1/10\n",
      "118995/118995 [==============================] - 8s 71us/step - loss: 0.5781 - acc: 0.6914 - val_loss: 0.5251 - val_acc: 0.8011\n",
      "Epoch 2/10\n",
      "118995/118995 [==============================] - 10s 85us/step - loss: 0.5205 - acc: 0.7436 - val_loss: 0.5265 - val_acc: 0.7962\n",
      "Epoch 3/10\n",
      "118995/118995 [==============================] - 8s 71us/step - loss: 0.5065 - acc: 0.7514 - val_loss: 0.5297 - val_acc: 0.8016\n",
      "Epoch 4/10\n",
      "118995/118995 [==============================] - 10s 84us/step - loss: 0.4975 - acc: 0.7583 - val_loss: 0.5198 - val_acc: 0.8015\n",
      "Epoch 5/10\n",
      "118995/118995 [==============================] - 10s 81us/step - loss: 0.4912 - acc: 0.7613 - val_loss: 0.5462 - val_acc: 0.8017\n",
      "Epoch 6/10\n",
      "118995/118995 [==============================] - 11s 90us/step - loss: 0.4853 - acc: 0.7633 - val_loss: 0.5080 - val_acc: 0.8057\n",
      "Epoch 7/10\n",
      "118995/118995 [==============================] - 10s 81us/step - loss: 0.4797 - acc: 0.7672 - val_loss: 0.5016 - val_acc: 0.8059\n",
      "Epoch 8/10\n",
      "118995/118995 [==============================] - 9s 77us/step - loss: 0.4744 - acc: 0.7712 - val_loss: 0.4981 - val_acc: 0.8054\n",
      "Epoch 9/10\n",
      "118995/118995 [==============================] - 10s 84us/step - loss: 0.4706 - acc: 0.7716 - val_loss: 0.5013 - val_acc: 0.8064\n",
      "Epoch 10/10\n",
      "118995/118995 [==============================] - 9s 79us/step - loss: 0.4680 - acc: 0.7732 - val_loss: 0.5117 - val_acc: 0.8055\n"
     ]
    },
    {
     "data": {
      "text/plain": [
       "<keras.callbacks.History at 0x1a4a597210>"
      ]
     },
     "execution_count": 74,
     "metadata": {},
     "output_type": "execute_result"
    }
   ],
   "source": [
    "from keras.models import Model\n",
    "from keras.callbacks import TensorBoard\n",
    "\n",
    "model = Model([voting_input, sponsor_input, cosponsor_input], combined)\n",
    "\n",
    "model.compile(loss='binary_crossentropy',\n",
    "              optimizer='rmsprop',\n",
    "              metrics=['acc'])\n",
    "\n",
    "embedding_metadata = {\n",
    "    embedding_layer.name: '../deputy_metadata.csv'\n",
    "}\n",
    "\n",
    "model.fit([x_1, x_2, x_3], np.array(y).reshape(-1, 1, 1),\n",
    "          batch_size=128,\n",
    "          epochs=10,\n",
    "          validation_split=0.2,\n",
    "          callbacks=[TensorBoard(log_dir='data/congress/Ireland/deputy_reps', \n",
    "                                 embeddings_freq=1,\n",
    "                                 embeddings_metadata=embedding_metadata)])"
   ]
  },
  {
   "cell_type": "markdown",
   "metadata": {},
   "source": [
    "In data/congress/Ireland, launch TensorBoard:\n",
    "    \n",
    "> $ tensorboard --logdir=deputy_reps/"
   ]
  },
  {
   "cell_type": "markdown",
   "metadata": {
    "collapsed": true
   },
   "source": [
    "### Utils"
   ]
  },
  {
   "cell_type": "code",
   "execution_count": 75,
   "metadata": {},
   "outputs": [
    {
     "name": "stdout",
     "output_type": "stream",
     "text": [
      "True\n",
      "á\n",
      "True\n",
      "True\n",
      "True\n"
     ]
    }
   ],
   "source": [
    "print '\\xc3\\xa1' == str('á')\n",
    "print str('á').decode('utf-8').encode('utf-8')\n",
    "print str('á').decode('utf-8').encode('utf-8') == str('\\xc3\\xa1')\n",
    "print str('Tá').decode('utf-8').encode('utf-8') == str('T\\xc3\\xa1')\n",
    "print str('Níl').decode('utf-8').encode('utf-8') == str('N\\xc3\\xadl')"
   ]
  }
 ],
 "metadata": {
  "kernelspec": {
   "display_name": "Python 2",
   "language": "python",
   "name": "python2"
  },
  "language_info": {
   "codemirror_mode": {
    "name": "ipython",
    "version": 2
   },
   "file_extension": ".py",
   "mimetype": "text/x-python",
   "name": "python",
   "nbconvert_exporter": "python",
   "pygments_lexer": "ipython2",
   "version": "2.7.14"
  }
 },
 "nbformat": 4,
 "nbformat_minor": 2
}
