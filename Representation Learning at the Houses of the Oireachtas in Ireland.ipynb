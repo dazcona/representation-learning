{
 "cells": [
  {
   "cell_type": "markdown",
   "metadata": {},
   "source": [
    "# Representation Learning at the Houses of the Oireachtas in Ireland\n",
    "\n",
    "Notebook dedicated to run representation learning on the Houses of the Oireachtas' data in Ireland.\n",
    "\n",
    "This work is based on a Senator Representations' work of the US Congress by Nathaniel Tucker:\n",
    "\n",
    "https://github.com/knathanieltucker/tf-keras-tutorial/blob/master/SenatorRepresentations.ipynb\n",
    "\n",
    "The Oireachtas is the legislature of the Republic of Ireland.\n",
    "\n",
    "The Oireachtas consists of:\n",
    "- The President of Ireland\n",
    "- The two houses of the Oireachtas:\n",
    "    - Dáil Éireann (lower house)\n",
    "    - Seanad Éireann (upper house)\n",
    "    \n",
    "Further info: https://en.wikipedia.org/wiki/Oireachtas\n",
    "\n",
    "Information regarding the Houses of the Oireachtas is featured on their website, including legislation, and is the copyright of the Houses of the Oireachtas: https://beta.oireachtas.ie/. \n",
    "\n",
    "Another interesting resource is https://www.kildarestreet.com/ which is a searchable archive of everything that's been said in the Dáil and all written parliamentary questions since January 2004, everything in the Seanad since September 2002, and all Committee meetings since September 2012.\n",
    "\n",
    "Open Data from the Houses of the Oireachtas can be accessed via:\n",
    "https://beta.oireachtas.ie/en/open-data/\n",
    "\n",
    "This includes a link to the open data APIs via a Swagger UI:\n",
    "https://api.oireachtas.ie/\n",
    "\n",
    "A vote in the Houses of the Oireachtas is also called a division. We will be looking at this divisions (votings) table for the house and the Seanad (Senate):"
   ]
  },
  {
   "cell_type": "code",
   "execution_count": 1,
   "metadata": {
    "collapsed": true
   },
   "outputs": [],
   "source": [
    "import requests # http://docs.python-requests.org/\n",
    "from BeautifulSoup import BeautifulSoup\n",
    "import json\n",
    "import time\n",
    "import csv\n",
    "import numpy as np\n",
    "from datetime import datetime\n",
    "import pandas as pd\n",
    "import matplotlib.pyplot as plt"
   ]
  },
  {
   "cell_type": "code",
   "execution_count": 2,
   "metadata": {
    "collapsed": true
   },
   "outputs": [],
   "source": [
    "data_path = \"data/congress/Ireland\""
   ]
  },
  {
   "cell_type": "code",
   "execution_count": 3,
   "metadata": {
    "collapsed": true
   },
   "outputs": [],
   "source": [
    "def get_votings(chamber = 'seanad'):  # chamber: 'seanad' or 'dail' if chamber_type: 'house'\n",
    "    \n",
    "    votings_data = []\n",
    "\n",
    "    table = \"divisions\" # votings table\n",
    "    url = 'https://api.oireachtas.ie/v1/{}'.format(table)\n",
    "    date_start = '1900-01-01'\n",
    "    date_end = '2017-12-31'\n",
    "    chamber_type = 'house' # 'committee' or 'house'\n",
    "\n",
    "    batch = 500\n",
    "    skip = 0\n",
    "    limit = skip + batch\n",
    "    count = 1 # start\n",
    "\n",
    "    while count > 0:\n",
    "\n",
    "        params = dict(chamber_type=chamber_type,\n",
    "                      chamber=chamber, \n",
    "                      date_start=date_start, \n",
    "                      date_end=date_end,\n",
    "                      skip=skip, \n",
    "                      limit=limit)\n",
    "        r = requests.get(url, params=params)\n",
    "\n",
    "        print r.url\n",
    "        # print \"Status Code:\", r.status_code\n",
    "        # print \"Headers:\", r.headers\n",
    "\n",
    "        # Add data from this batch\n",
    "        contents = r.json()\n",
    "\n",
    "        if 'message' in contents and contents['message'] == 'server error':\n",
    "            print 'ERROR RETRIEVING DATA'\n",
    "            return votings_data\n",
    "\n",
    "        # Results    \n",
    "        votings = contents['results'][:batch] # in order not to have duplicates\n",
    "        votings_data.extend(votings)\n",
    "\n",
    "        # Update count, more to retrieve?\n",
    "        count = len(votings)\n",
    "        print 'Number retrieved', count\n",
    "        # Update skip and limit for query\n",
    "        skip += batch\n",
    "        limit += batch\n",
    "\n",
    "        time.sleep(1)\n",
    "        \n",
    "    return votings_data"
   ]
  },
  {
   "cell_type": "markdown",
   "metadata": {},
   "source": [
    "### Seanad Éireann (upper house)"
   ]
  },
  {
   "cell_type": "code",
   "execution_count": 4,
   "metadata": {
    "collapsed": true
   },
   "outputs": [],
   "source": [
    "# seanad_data = get_votings()"
   ]
  },
  {
   "cell_type": "code",
   "execution_count": 5,
   "metadata": {
    "collapsed": true
   },
   "outputs": [],
   "source": [
    "# with open('%s/seanad_data.json' % (data_path), 'w') as outfile:\n",
    "#      json.dump(seanad_data, outfile)"
   ]
  },
  {
   "cell_type": "code",
   "execution_count": 6,
   "metadata": {
    "collapsed": true
   },
   "outputs": [],
   "source": [
    "seanad_data = json.load(open('%s/seanad_data.json' % (data_path)))"
   ]
  },
  {
   "cell_type": "markdown",
   "metadata": {},
   "source": [
    "How many votings in the Senate?"
   ]
  },
  {
   "cell_type": "code",
   "execution_count": 7,
   "metadata": {},
   "outputs": [
    {
     "data": {
      "text/plain": [
       "3530"
      ]
     },
     "execution_count": 7,
     "metadata": {},
     "output_type": "execute_result"
    }
   ],
   "source": [
    "len(seanad_data)"
   ]
  },
  {
   "cell_type": "code",
   "execution_count": 8,
   "metadata": {
    "collapsed": true
   },
   "outputs": [],
   "source": [
    "# seanad_data[0]"
   ]
  },
  {
   "cell_type": "markdown",
   "metadata": {},
   "source": [
    "### Dáil Éireann (lower house)"
   ]
  },
  {
   "cell_type": "code",
   "execution_count": 9,
   "metadata": {
    "collapsed": true
   },
   "outputs": [],
   "source": [
    "# dail_data = get_votings(chamber = 'dail')"
   ]
  },
  {
   "cell_type": "code",
   "execution_count": 10,
   "metadata": {
    "collapsed": true
   },
   "outputs": [],
   "source": [
    "# with open('%s/dail_data.json' % (data_path), 'w') as outfile:\n",
    "#      json.dump(dail_data, outfile)"
   ]
  },
  {
   "cell_type": "code",
   "execution_count": 11,
   "metadata": {
    "collapsed": true
   },
   "outputs": [],
   "source": [
    "dail_data = json.load(open('%s/dail_data.json' % (data_path)))"
   ]
  },
  {
   "cell_type": "code",
   "execution_count": 12,
   "metadata": {},
   "outputs": [
    {
     "data": {
      "text/plain": [
       "5000"
      ]
     },
     "execution_count": 12,
     "metadata": {},
     "output_type": "execute_result"
    }
   ],
   "source": [
    "len(dail_data)"
   ]
  },
  {
   "cell_type": "markdown",
   "metadata": {},
   "source": [
    "**Note**\n",
    "\n",
    "The division count for the Dail is actually 7,329 but the API does only let me retrieve the first 5,000 votings"
   ]
  },
  {
   "cell_type": "code",
   "execution_count": 13,
   "metadata": {
    "collapsed": true
   },
   "outputs": [],
   "source": [
    "# dail_data[0]"
   ]
  },
  {
   "cell_type": "markdown",
   "metadata": {},
   "source": [
    "Verify there is no duplicates:"
   ]
  },
  {
   "cell_type": "code",
   "execution_count": 14,
   "metadata": {
    "collapsed": true,
    "scrolled": true
   },
   "outputs": [],
   "source": [
    "def verify_no_voting_duplicates(vote_data):\n",
    "    votes = []\n",
    "    duplicates = []\n",
    "    for vote in vote_data:\n",
    "        uri = vote[\"division\"][\"uri\"]\n",
    "        if uri not in votes:\n",
    "            # print uri\n",
    "            votes.append(uri)\n",
    "        else:\n",
    "            duplicates.append(uri)\n",
    "    return len(duplicates)"
   ]
  },
  {
   "cell_type": "code",
   "execution_count": 15,
   "metadata": {},
   "outputs": [
    {
     "data": {
      "text/plain": [
       "0"
      ]
     },
     "execution_count": 15,
     "metadata": {},
     "output_type": "execute_result"
    }
   ],
   "source": [
    "verify_no_voting_duplicates(seanad_data)"
   ]
  },
  {
   "cell_type": "code",
   "execution_count": 16,
   "metadata": {},
   "outputs": [
    {
     "data": {
      "text/plain": [
       "0"
      ]
     },
     "execution_count": 16,
     "metadata": {},
     "output_type": "execute_result"
    }
   ],
   "source": [
    "verify_no_voting_duplicates(dail_data)"
   ]
  },
  {
   "cell_type": "markdown",
   "metadata": {},
   "source": [
    "Get members from the votings:"
   ]
  },
  {
   "cell_type": "code",
   "execution_count": 17,
   "metadata": {
    "collapsed": true
   },
   "outputs": [],
   "source": [
    "def get_members(vote_data):\n",
    "    members = set()\n",
    "    for vote in vote_data:\n",
    "        div = vote[\"division\"]\n",
    "        for outcome, voting in div[\"tallies\"].iteritems():            \n",
    "            if voting is not None:\n",
    "                # print voting[\"showAs\"] # Tá (YES), Níl (NO), Staon (Abstention)\n",
    "                # print len(voting[\"members\"])\n",
    "                for member in voting[\"members\"]:\n",
    "                    member = member[\"member\"]\n",
    "                    #last_name, first_name = member[\"showAs\"].split(\",\")\n",
    "                    #first_name = first_name[:-1].strip()\n",
    "                    #last_name = last_name.strip()\n",
    "                    member_code = member[\"memberCode\"]\n",
    "                    # print member_code\n",
    "                    if member_code is not None:\n",
    "                        members.add(member_code)\n",
    "    return members"
   ]
  },
  {
   "cell_type": "markdown",
   "metadata": {},
   "source": [
    "**Senators**"
   ]
  },
  {
   "cell_type": "code",
   "execution_count": 18,
   "metadata": {
    "collapsed": true
   },
   "outputs": [],
   "source": [
    "senators = get_members(seanad_data)"
   ]
  },
  {
   "cell_type": "code",
   "execution_count": 19,
   "metadata": {},
   "outputs": [
    {
     "data": {
      "text/plain": [
       "u'Maria-Byrne.S.2016-04-25'"
      ]
     },
     "execution_count": 19,
     "metadata": {},
     "output_type": "execute_result"
    }
   ],
   "source": [
    "list(senators)[3]"
   ]
  },
  {
   "cell_type": "code",
   "execution_count": 20,
   "metadata": {},
   "outputs": [
    {
     "data": {
      "text/plain": [
       "197"
      ]
     },
     "execution_count": 20,
     "metadata": {},
     "output_type": "execute_result"
    }
   ],
   "source": [
    "len(senators)"
   ]
  },
  {
   "cell_type": "markdown",
   "metadata": {},
   "source": [
    "**Deputies**"
   ]
  },
  {
   "cell_type": "code",
   "execution_count": 21,
   "metadata": {
    "collapsed": true
   },
   "outputs": [],
   "source": [
    "deputies = get_members(dail_data)"
   ]
  },
  {
   "cell_type": "code",
   "execution_count": 22,
   "metadata": {},
   "outputs": [
    {
     "data": {
      "text/plain": [
       "u'Martin-Kenny.D.2016-10-03'"
      ]
     },
     "execution_count": 22,
     "metadata": {},
     "output_type": "execute_result"
    }
   ],
   "source": [
    "list(deputies)[2]"
   ]
  },
  {
   "cell_type": "code",
   "execution_count": 23,
   "metadata": {},
   "outputs": [
    {
     "data": {
      "text/plain": [
       "372"
      ]
     },
     "execution_count": 23,
     "metadata": {},
     "output_type": "execute_result"
    }
   ],
   "source": [
    "len(deputies)"
   ]
  },
  {
   "cell_type": "markdown",
   "metadata": {},
   "source": [
    "All members:"
   ]
  },
  {
   "cell_type": "code",
   "execution_count": 24,
   "metadata": {
    "collapsed": true
   },
   "outputs": [],
   "source": [
    "all_members = senators.union(deputies)"
   ]
  },
  {
   "cell_type": "code",
   "execution_count": 25,
   "metadata": {},
   "outputs": [
    {
     "data": {
      "text/plain": [
       "478"
      ]
     },
     "execution_count": 25,
     "metadata": {},
     "output_type": "execute_result"
    }
   ],
   "source": [
    "len(all_members)"
   ]
  },
  {
   "cell_type": "code",
   "execution_count": 26,
   "metadata": {
    "collapsed": true
   },
   "outputs": [],
   "source": [
    "# for v, k in enumerate(set(senators)):\n",
    "#     print v, k"
   ]
  },
  {
   "cell_type": "code",
   "execution_count": 27,
   "metadata": {
    "collapsed": true
   },
   "outputs": [],
   "source": [
    "# leave the first two blank for padding and not a member\n",
    "senator_to_id = { k: v + 2 for v, k in enumerate(senators) }\n",
    "deputy_to_id = { k: v + 2 for v, k in enumerate(deputies) }"
   ]
  },
  {
   "cell_type": "code",
   "execution_count": 28,
   "metadata": {
    "collapsed": true
   },
   "outputs": [],
   "source": [
    "# senator_to_id"
   ]
  },
  {
   "cell_type": "code",
   "execution_count": 29,
   "metadata": {},
   "outputs": [
    {
     "data": {
      "text/plain": [
       "(197, 372)"
      ]
     },
     "execution_count": 29,
     "metadata": {},
     "output_type": "execute_result"
    }
   ],
   "source": [
    "len(senator_to_id), len(deputy_to_id)"
   ]
  },
  {
   "cell_type": "code",
   "execution_count": 30,
   "metadata": {
    "collapsed": true
   },
   "outputs": [],
   "source": [
    "def get_member_id(name, collection):\n",
    "    name = name.replace(\" \", \"-\").replace(\".\", \"\")\n",
    "    sens = [k for k, v in collection.iteritems() if k is not None and k.startswith(name)]\n",
    "    if len(sens) > 0:\n",
    "        return sens[0], collection[sens[0]]\n",
    "    return None, 1"
   ]
  },
  {
   "cell_type": "code",
   "execution_count": 31,
   "metadata": {
    "scrolled": true
   },
   "outputs": [
    {
     "data": {
      "text/plain": [
       "((u'Aideen-Hayden.S.2011-05-25', 133), (None, 1))"
      ]
     },
     "execution_count": 31,
     "metadata": {},
     "output_type": "execute_result"
    }
   ],
   "source": [
    "get_member_id('Aideen Hayden', senator_to_id), get_member_id('Aideen Hayden', deputy_to_id)"
   ]
  },
  {
   "cell_type": "markdown",
   "metadata": {},
   "source": [
    "**Parties**"
   ]
  },
  {
   "cell_type": "code",
   "execution_count": 32,
   "metadata": {
    "collapsed": true
   },
   "outputs": [],
   "source": [
    "def get_member_party(name):\n",
    "    uri = 'https://beta.oireachtas.ie/en/members/member/%s/' % (name)\n",
    "    try:\n",
    "        page = requests.get(uri).text\n",
    "        # dom = web.Element(page)\n",
    "        # party = dom.content.split('<p class=\"bio-text\">Party:</p> <p>')[1].split('</p')[0].strip()\n",
    "        bs = BeautifulSoup(page)\n",
    "        er = bs.find(text=\"Party:\")\n",
    "        party = bs.find(text=\"Party:\").findNext('p').contents[0].strip()\n",
    "    except:\n",
    "        party = raw_input('For member %s, please input his/her party manually: ' % (name))\n",
    "    return party"
   ]
  },
  {
   "cell_type": "code",
   "execution_count": 33,
   "metadata": {
    "collapsed": true
   },
   "outputs": [],
   "source": [
    "member = list(senators)[0]"
   ]
  },
  {
   "cell_type": "code",
   "execution_count": 34,
   "metadata": {},
   "outputs": [
    {
     "data": {
      "text/plain": [
       "(u'Cecilia-Keaveney.D.1996-04-02', u'Fianna F\\xe1il')"
      ]
     },
     "execution_count": 34,
     "metadata": {},
     "output_type": "execute_result"
    }
   ],
   "source": [
    "member, get_member_party(member)"
   ]
  },
  {
   "cell_type": "code",
   "execution_count": 35,
   "metadata": {},
   "outputs": [
    {
     "data": {
      "text/plain": [
       "(u'Dessie-Ellis.D.2011-03-09', u'Sinn F\\xe9in')"
      ]
     },
     "execution_count": 35,
     "metadata": {},
     "output_type": "execute_result"
    }
   ],
   "source": [
    "member = list(deputies)[17]\n",
    "member, get_member_party(member)"
   ]
  },
  {
   "cell_type": "code",
   "execution_count": 36,
   "metadata": {
    "collapsed": true
   },
   "outputs": [],
   "source": [
    "# member = list(all_members)[21] # Willie-O'Dea.D.1982-03-09\n",
    "# print member\n",
    "# get_member_party(member) # prompt: For member Willie-O'Dea.D.1982-03-09, please input his/her party manually"
   ]
  },
  {
   "cell_type": "code",
   "execution_count": 37,
   "metadata": {
    "collapsed": true
   },
   "outputs": [],
   "source": [
    "def get_parties(members):\n",
    "\n",
    "    parties = []\n",
    "    \n",
    "    for member in members:\n",
    "        \n",
    "        print 'Member', member\n",
    "    \n",
    "        parties.append(\n",
    "            {'member': member.strip(),\n",
    "             'party': get_member_party(member)})\n",
    "    \n",
    "    return parties"
   ]
  },
  {
   "cell_type": "code",
   "execution_count": 38,
   "metadata": {
    "collapsed": true
   },
   "outputs": [],
   "source": [
    "# parties = get_parties(all_members)"
   ]
  },
  {
   "cell_type": "code",
   "execution_count": 39,
   "metadata": {
    "collapsed": true
   },
   "outputs": [],
   "source": [
    "# with open('%s/parties.json' % (data_path), 'w') as outfile:\n",
    "#      json.dump(parties, outfile)"
   ]
  },
  {
   "cell_type": "code",
   "execution_count": 40,
   "metadata": {
    "collapsed": true
   },
   "outputs": [],
   "source": [
    "parties = json.load(open('%s/parties.json' % (data_path)))"
   ]
  },
  {
   "cell_type": "code",
   "execution_count": 41,
   "metadata": {},
   "outputs": [
    {
     "data": {
      "text/plain": [
       "{u'member': u'Cecilia-Keaveney.D.1996-04-02', u'party': u'Fianna F\\xe1il'}"
      ]
     },
     "execution_count": 41,
     "metadata": {},
     "output_type": "execute_result"
    }
   ],
   "source": [
    "parties[0]"
   ]
  },
  {
   "cell_type": "code",
   "execution_count": 42,
   "metadata": {
    "collapsed": true
   },
   "outputs": [],
   "source": [
    "parties = { party['member']: party['party'] for party in parties }"
   ]
  },
  {
   "cell_type": "code",
   "execution_count": 43,
   "metadata": {},
   "outputs": [
    {
     "data": {
      "text/plain": [
       "{u'Anti-Austerity Alliance - People Before Profit',\n",
       " u'Ceann Comhairle',\n",
       " u'Fianna F\\xe1il',\n",
       " u'Fine Gael',\n",
       " u'Green Party',\n",
       " u'Independent',\n",
       " u'Independents 4 Change',\n",
       " u'Labour',\n",
       " u'Labour Party',\n",
       " u'Progressive Democrats',\n",
       " u'Renua',\n",
       " u'Sinn F\\xe9in',\n",
       " u'Social Democrats',\n",
       " u'Socialist Party',\n",
       " u'Solidarity - People Before Profit'}"
      ]
     },
     "execution_count": 43,
     "metadata": {},
     "output_type": "execute_result"
    }
   ],
   "source": [
    "set(val for val in parties.values())"
   ]
  },
  {
   "cell_type": "code",
   "execution_count": 44,
   "metadata": {},
   "outputs": [
    {
     "data": {
      "text/plain": [
       "[(u'Fianna F\\xe1il', 165),\n",
       " (u'Fine Gael', 122),\n",
       " (u'Independent', 64),\n",
       " (u'Labour Party', 45),\n",
       " (u'Sinn F\\xe9in', 33),\n",
       " (u'Green Party', 12),\n",
       " (u'Labour', 12),\n",
       " (u'Progressive Democrats', 9),\n",
       " (u'Solidarity - People Before Profit', 4),\n",
       " (u'Independents 4 Change', 3),\n",
       " (u'Renua', 3),\n",
       " (u'Anti-Austerity Alliance - People Before Profit', 2),\n",
       " (u'Social Democrats', 2),\n",
       " (u'Socialist Party', 1),\n",
       " (u'Ceann Comhairle', 1)]"
      ]
     },
     "execution_count": 44,
     "metadata": {},
     "output_type": "execute_result"
    }
   ],
   "source": [
    "from collections import Counter\n",
    "Counter([v for v in parties.values()]).most_common()"
   ]
  },
  {
   "cell_type": "code",
   "execution_count": 45,
   "metadata": {
    "collapsed": true
   },
   "outputs": [],
   "source": [
    "def get_party_from_code(code):\n",
    "    if code is None or code not in parties:\n",
    "        return None\n",
    "    return parties[code]"
   ]
  },
  {
   "cell_type": "code",
   "execution_count": 46,
   "metadata": {},
   "outputs": [
    {
     "data": {
      "text/plain": [
       "u'Fianna F\\xe1il'"
      ]
     },
     "execution_count": 46,
     "metadata": {},
     "output_type": "execute_result"
    }
   ],
   "source": [
    "get_party_from_code('Cecilia-Keaveney.D.1996-04-02')"
   ]
  },
  {
   "cell_type": "markdown",
   "metadata": {},
   "source": [
    "**Display names: Last name, Party**"
   ]
  },
  {
   "cell_type": "code",
   "execution_count": 47,
   "metadata": {},
   "outputs": [],
   "source": [
    "# Not all members will appear on the votings \n",
    "senator_id_to_displayname = {}\n",
    "deputy_id_to_displayname = {}\n",
    "for member_code in set(all_members):\n",
    "    name = member_code\n",
    "    party = parties[name]\n",
    "    if name is not None and '.' in name:\n",
    "        name = \" \".join(name.split('.')[0].split('-')) # Complete name\n",
    "    if party is not None:\n",
    "        name = name + \", \" + party\n",
    "    # print name\n",
    "    if member_code in senators:\n",
    "        senator_id = senator_to_id[member_code]\n",
    "        senator_id_to_displayname[senator_id] = name\n",
    "    if member_code in deputies:\n",
    "        deputy_id = deputy_to_id[member_code]\n",
    "        deputy_id_to_displayname[deputy_id] = name"
   ]
  },
  {
   "cell_type": "code",
   "execution_count": 48,
   "metadata": {},
   "outputs": [
    {
     "data": {
      "text/plain": [
       "(u'Cecilia-Keaveney.D.1996-04-02', 2)"
      ]
     },
     "execution_count": 48,
     "metadata": {},
     "output_type": "execute_result"
    }
   ],
   "source": [
    "get_member_id('Cecilia Keaveney', senator_to_id)"
   ]
  },
  {
   "cell_type": "code",
   "execution_count": 49,
   "metadata": {
    "collapsed": true
   },
   "outputs": [],
   "source": [
    "# senator_id_to_displayname"
   ]
  },
  {
   "cell_type": "code",
   "execution_count": 50,
   "metadata": {},
   "outputs": [
    {
     "data": {
      "text/plain": [
       "u'D\\xe9irdre de B\\xfarca, Green Party'"
      ]
     },
     "execution_count": 50,
     "metadata": {},
     "output_type": "execute_result"
    }
   ],
   "source": [
    "senator_id_to_displayname[3]"
   ]
  },
  {
   "cell_type": "code",
   "execution_count": 51,
   "metadata": {
    "collapsed": true
   },
   "outputs": [],
   "source": [
    "# deputy_id_to_displayname"
   ]
  },
  {
   "cell_type": "code",
   "execution_count": 52,
   "metadata": {},
   "outputs": [
    {
     "data": {
      "text/plain": [
       "u'Martin Kenny, Sinn F\\xe9in'"
      ]
     },
     "execution_count": 52,
     "metadata": {},
     "output_type": "execute_result"
    }
   ],
   "source": [
    "deputy_id_to_displayname[4]"
   ]
  },
  {
   "cell_type": "code",
   "execution_count": 53,
   "metadata": {},
   "outputs": [
    {
     "data": {
      "text/plain": [
       "(197, 372)"
      ]
     },
     "execution_count": 53,
     "metadata": {},
     "output_type": "execute_result"
    }
   ],
   "source": [
    "len(senator_id_to_displayname), len(deputy_id_to_displayname)"
   ]
  },
  {
   "cell_type": "markdown",
   "metadata": {},
   "source": [
    "**Extracting sponsors and members against a bill**\n",
    "\n",
    "The following function encapsulates how to extract sponsors and members against a bill based on a line of text manually inputed and in several formats:"
   ]
  },
  {
   "cell_type": "code",
   "execution_count": 54,
   "metadata": {
    "collapsed": true
   },
   "outputs": [],
   "source": [
    "# Sponsors and members against a Bill are specified in a text line where we will extract:\n",
    "# 2 members that sponsored the bill\n",
    "# 2 members that opposed to the bill\n",
    "def get_sponsors(tellers_data, collection):\n",
    "    \n",
    "    # print tellers_data\n",
    "    \n",
    "    sp_first, sp_second, ag_first, ag_second = None, None, None, None\n",
    "    sp_f_party, sp_s_party, ag_f_party, ag_s_party = None, None, None, None\n",
    "    \n",
    "    if \";\" in tellers_data:\n",
    "        \n",
    "        tellers = tellers_data.split(\";\")\n",
    "        # print tellers\n",
    "        \n",
    "        for teller in tellers:\n",
    "            \n",
    "            if teller.strip() == \"\":\n",
    "                continue\n",
    "            if \"Tellers:\" in teller:\n",
    "                teller = teller.split(\"Tellers:\")[1].strip()\n",
    "            elif \":\" in teller:\n",
    "                teller = teller.split(\":\")[1].strip()\n",
    "\n",
    "            if \",\" in teller:\n",
    "                values = teller.split(\",\")\n",
    "            elif \":\" in teller:\n",
    "                values = teller.split(\":\")\n",
    "            else:\n",
    "                #print \"Bad format\"\n",
    "                continue\n",
    "            if len(values) != 2:\n",
    "                #print \"BAD format\"\n",
    "                continue\n",
    "                \n",
    "            support, members = values\n",
    "\n",
    "            if \"Senators\" in members:\n",
    "                members = members.split(\"Senators\")\n",
    "                members = members[-1]\n",
    "            elif \"Deputies\" in members:\n",
    "                members = members.split(\"Deputies\")\n",
    "                members = members[-1]\n",
    "                \n",
    "            if \" and\" in members:\n",
    "                members = members.split(\" and\")\n",
    "            elif \"and \" in members:\n",
    "                members = members.split(\"and \")\n",
    "            elif \"an d\":\n",
    "                members = members.split(\"an d\")\n",
    "            else:\n",
    "                members = members.split(\"and\")\n",
    "            \n",
    "            if len(members) > 1:\n",
    "                first_member, second_member = members[:2]\n",
    "                first_member = first_member.strip()\n",
    "                second_member = second_member.strip()\n",
    "            else:\n",
    "                first_member = members[0]\n",
    "                first_member = first_member.strip()\n",
    "                second_member = \"None\"\n",
    "            \n",
    "            support = support.strip()\n",
    "\n",
    "            if support.encode('utf-8') == str('T\\xc3\\xa1'):\n",
    "                sp_f_code, sp_first = get_member_id(first_member, collection)\n",
    "                sp_s_code, sp_second = get_member_id(second_member, collection)\n",
    "                sp_f_party = get_party_from_code(sp_f_code)\n",
    "                sp_s_party = get_party_from_code(sp_s_code)\n",
    "                # print \"Sponsors\", first_member, sp_f_party, sp_first, second_member, sp_second, sp_s_party\n",
    "                \n",
    "            elif support.encode('utf-8') == str('N\\xc3\\xadl'):\n",
    "                ag_f_code, ag_first = get_member_id(first_member, collection)\n",
    "                ag_s_code, ag_second = get_member_id(second_member, collection)\n",
    "                ag_f_party = get_party_from_code(ag_f_code)\n",
    "                ag_s_party = get_party_from_code(ag_s_code)\n",
    "                # print \"Against\", first_member, ag_first, ag_f_party, second_member, ag_second, ag_s_party\n",
    "                \n",
    "    return [sp_first, sp_second, ag_first, ag_second], [sp_f_party, sp_s_party, ag_f_party, ag_s_party]"
   ]
  },
  {
   "cell_type": "markdown",
   "metadata": {},
   "source": [
    "**Votings**"
   ]
  },
  {
   "cell_type": "code",
   "execution_count": 55,
   "metadata": {
    "collapsed": true
   },
   "outputs": [],
   "source": [
    "def get_vote_data(data, collection_to_ids, display_names):\n",
    "\n",
    "    votings = []\n",
    "    added, not_added = [], []\n",
    "    outcomes = []\n",
    "\n",
    "    for vote in data:\n",
    "        \n",
    "        # Division\n",
    "        div = vote[\"division\"]\n",
    "        # vote['voteId']\n",
    "        date = datetime.strptime(div[\"date\"], '%Y-%m-%d')\n",
    "        outcome = div[\"outcome\"] # Carried, Lost, _         \n",
    "        # is_bill = div[\"isBill\"]\n",
    "        # category = div[\"category\"]\n",
    "        \n",
    "        # Chamber\n",
    "        # chamber = div[\"chamber\"]\n",
    "        # chamber[\"uri\"]\n",
    "        # chamber[\"showAs\"]\n",
    "        \n",
    "        # House\n",
    "        house = div['house']\n",
    "        # house_uri = house['uri']\n",
    "        # chamberType = house['chamberType']\n",
    "        # house['committeeCode']\n",
    "        # houseCode = house['houseCode']\n",
    "        house_num = house['houseNo']\n",
    "        # house_desc = house['showAs']\n",
    "        \n",
    "        # Debate\n",
    "        # debate =  div[\"debate\"]\n",
    "        # debate_desc = debate['showAs']\n",
    "        # debate_section = debate['debateSection']\n",
    "        # debate['uri']\n",
    "\n",
    "        # Bill sponsors\n",
    "        # Parties\n",
    "        sponsors, sp_parties = get_sponsors(div[\"tellers\"], collection_to_ids)\n",
    "\n",
    "        if None in sponsors or sponsors == (1, 1, 1, 1): # Votings that could not be added\n",
    "            \n",
    "            not_added.append(date)\n",
    "            \n",
    "        else:\n",
    "            \n",
    "            # print sponsors\n",
    "            # print sp_parties\n",
    "            \n",
    "            # Add outcome\n",
    "            outcomes.append({\n",
    "                'outcome': outcome,\n",
    "                'house': house_num,\n",
    "                'sponsor': sp_parties[0]\n",
    "            })\n",
    "            \n",
    "            # Sponsors\n",
    "            sponsor, cosponsor, against, coagainst = sponsors\n",
    "\n",
    "            # Tallies\n",
    "            tallies = div[\"tallies\"]\n",
    "\n",
    "            if tallies[\"taVotes\"] is not None:\n",
    "                \n",
    "                for vote in tallies[\"taVotes\"][\"members\"]:\n",
    "                    member = vote[\"member\"]\n",
    "                    code = member[\"memberCode\"]\n",
    "                    if code is not None:\n",
    "                        member_id = collection_to_ids[code]\n",
    "                        party = parties[code]\n",
    "                        # replace names with utf8 encoding names\n",
    "                        display_names[member_id] = \" \".join(code.split('.')[0].split('-')) + \", \" + party \n",
    "                        # Add vote\n",
    "                        votings.append(\n",
    "                            (1, # YES\n",
    "                             member_id, \n",
    "                             [sponsor, cosponsor], [against, coagainst])\n",
    "                        ) \n",
    "\n",
    "            if tallies[\"nilVotes\"] is not None:\n",
    "                \n",
    "                for vote in tallies[\"nilVotes\"][\"members\"]:\n",
    "                    member = vote[\"member\"]\n",
    "                    code = member[\"memberCode\"]\n",
    "                    if code is not None:\n",
    "                        member_id = collection_to_ids[code]\n",
    "                        party = parties[code]\n",
    "                        # replace names with utf8 encoding names\n",
    "                        display_names[member_id] = \" \".join(code.split('.')[0].split('-')) + \", \" + party \n",
    "                        # Add vote\n",
    "                        votings.append(\n",
    "                            (0, # NO\n",
    "                             member_id, \n",
    "                             [sponsor, cosponsor], [against, coagainst])\n",
    "                        )\n",
    "                        \n",
    "            if tallies['staonVotes'] is not None:\n",
    "                \n",
    "                pass\n",
    "\n",
    "            added.append(date)\n",
    "            \n",
    "    return votings, added, not_added, outcomes"
   ]
  },
  {
   "cell_type": "code",
   "execution_count": 56,
   "metadata": {
    "scrolled": true
   },
   "outputs": [],
   "source": [
    "# Seanad votings\n",
    "\n",
    "seanad_votings, added, not_added, seanad_outcomes = get_vote_data(\n",
    "    seanad_data, senator_to_id, senator_id_to_displayname)"
   ]
  },
  {
   "cell_type": "code",
   "execution_count": 57,
   "metadata": {},
   "outputs": [],
   "source": [
    "# senator_id_to_displayname"
   ]
  },
  {
   "cell_type": "code",
   "execution_count": 58,
   "metadata": {},
   "outputs": [
    {
     "data": {
      "text/plain": [
       "(75487, 2802, 728, 2802)"
      ]
     },
     "execution_count": 58,
     "metadata": {},
     "output_type": "execute_result"
    }
   ],
   "source": [
    "len(seanad_votings), len(added), len(not_added), len(seanad_outcomes)"
   ]
  },
  {
   "cell_type": "code",
   "execution_count": 59,
   "metadata": {},
   "outputs": [
    {
     "data": {
      "text/plain": [
       "0.7937677053824362"
      ]
     },
     "execution_count": 59,
     "metadata": {},
     "output_type": "execute_result"
    }
   ],
   "source": [
    "float(len(added)) / (len(added) + len(not_added))"
   ]
  },
  {
   "cell_type": "markdown",
   "metadata": {},
   "source": [
    "Almost 80% of the bills we were able to extract the sponsors, co-sponsors and members against the votings of those bills. That resulted in more than ~73K individual votes for these bills in the Seanad."
   ]
  },
  {
   "cell_type": "code",
   "execution_count": 60,
   "metadata": {
    "scrolled": true
   },
   "outputs": [],
   "source": [
    "# seanad_votings"
   ]
  },
  {
   "cell_type": "code",
   "execution_count": 61,
   "metadata": {},
   "outputs": [
    {
     "data": {
      "text/plain": [
       "(1, 100, [190, 117], [104, 90])"
      ]
     },
     "execution_count": 61,
     "metadata": {},
     "output_type": "execute_result"
    }
   ],
   "source": [
    "# A particular voting for a bill\n",
    "seanad_votings[0]"
   ]
  },
  {
   "cell_type": "code",
   "execution_count": 62,
   "metadata": {},
   "outputs": [
    {
     "data": {
      "text/plain": [
       "datetime.datetime(2017, 12, 5, 0, 0)"
      ]
     },
     "execution_count": 62,
     "metadata": {},
     "output_type": "execute_result"
    }
   ],
   "source": [
    "added[0]"
   ]
  },
  {
   "cell_type": "code",
   "execution_count": 63,
   "metadata": {},
   "outputs": [
    {
     "data": {
      "text/plain": [
       "(datetime.datetime(1931, 3, 18, 0, 0), datetime.datetime(2017, 12, 5, 0, 0))"
      ]
     },
     "execution_count": 63,
     "metadata": {},
     "output_type": "execute_result"
    }
   ],
   "source": [
    "min(added), max(added)"
   ]
  },
  {
   "cell_type": "code",
   "execution_count": 64,
   "metadata": {},
   "outputs": [
    {
     "data": {
      "text/plain": [
       "(datetime.datetime(1923, 2, 21, 0, 0), datetime.datetime(2008, 5, 27, 0, 0))"
      ]
     },
     "execution_count": 64,
     "metadata": {},
     "output_type": "execute_result"
    }
   ],
   "source": [
    "min(not_added), max(not_added)"
   ]
  },
  {
   "cell_type": "code",
   "execution_count": 65,
   "metadata": {},
   "outputs": [
    {
     "data": {
      "text/plain": [
       "{'house': u'25', 'outcome': u'Carried', 'sponsor': u'Fine Gael'}"
      ]
     },
     "execution_count": 65,
     "metadata": {},
     "output_type": "execute_result"
    }
   ],
   "source": [
    "seanad_outcomes[0]"
   ]
  },
  {
   "cell_type": "code",
   "execution_count": 66,
   "metadata": {
    "collapsed": true
   },
   "outputs": [],
   "source": [
    "def plot_bills_analysed(a, n):\n",
    "    \n",
    "    fig, axes = plt.subplots(nrows=1, ncols=2, figsize=(12, 4), dpi=100)\n",
    "    ax0, ax1 = axes.flatten()\n",
    "\n",
    "    ax0.hist(a, bins='auto', color='b')\n",
    "    ax0.set_title('Frequency of bills added')\n",
    "    \n",
    "    ax1.hist(n, bins='auto', color='r')\n",
    "    ax1.set_title('Frequency of bills NOT added')\n",
    "\n",
    "    fig.tight_layout()\n",
    "    plt.show()"
   ]
  },
  {
   "cell_type": "code",
   "execution_count": 67,
   "metadata": {
    "scrolled": true
   },
   "outputs": [
    {
     "data": {
      "image/png": "[encoded data removed]",
      "text/plain": [
       "<matplotlib.figure.Figure at 0x13a83f950>"
      ]
     },
     "metadata": {},
     "output_type": "display_data"
    }
   ],
   "source": [
    "plot_bills_analysed(added, not_added)"
   ]
  },
  {
   "cell_type": "code",
   "execution_count": 68,
   "metadata": {},
   "outputs": [
    {
     "data": {
      "text/plain": [
       "Counter({False: 75487})"
      ]
     },
     "execution_count": 68,
     "metadata": {},
     "output_type": "execute_result"
    }
   ],
   "source": [
    "# Votings gathered from those bills WITH a Sponsor (all of them, if not we disregard it)\n",
    "Counter([s[1] == 1 for s in seanad_votings])"
   ]
  },
  {
   "cell_type": "code",
   "execution_count": 69,
   "metadata": {},
   "outputs": [
    {
     "data": {
      "text/plain": [
       "(Counter({False: 69877, True: 5610}), Counter({False: 67207, True: 8280}))"
      ]
     },
     "execution_count": 69,
     "metadata": {},
     "output_type": "execute_result"
    }
   ],
   "source": [
    "# Votings gathered from those bills WITH and WITHOUT Co-ponsors\n",
    "Counter([s[2][0] == 1 for s in seanad_votings]), Counter([s[2][1] == 1 for s in seanad_votings])"
   ]
  },
  {
   "cell_type": "code",
   "execution_count": 70,
   "metadata": {},
   "outputs": [
    {
     "data": {
      "text/plain": [
       "(Counter({False: 69795, True: 5692}), Counter({False: 67990, True: 7497}))"
      ]
     },
     "execution_count": 70,
     "metadata": {},
     "output_type": "execute_result"
    }
   ],
   "source": [
    "# Votings gathered from those bills WITH and WITHOUT members Against\n",
    "Counter([s[3][0] == 1 for s in seanad_votings]), Counter([s[3][1] == 1 for s in seanad_votings])"
   ]
  },
  {
   "cell_type": "code",
   "execution_count": 71,
   "metadata": {
    "collapsed": true
   },
   "outputs": [],
   "source": [
    "def plot_votings_analysed(v):\n",
    "\n",
    "    plt.figure(figsize=(12, 4), dpi=100)\n",
    "    \n",
    "    values = {}\n",
    "    values.setdefault(True, [])\n",
    "    values.setdefault(False, [])\n",
    "    labels = []\n",
    "    \n",
    "    c = Counter([s[1] == 1 for s in v]).most_common()\n",
    "    values[True].append(0)\n",
    "    values[False].append(c[False][1])\n",
    "    labels.append('Sponsor')\n",
    "    \n",
    "    c = Counter([s[2][0] == 1 for s in v]).most_common()\n",
    "    values[True].append(c[True][1])\n",
    "    values[False].append(c[False][1])\n",
    "    labels.append('Co-sponsor 1')\n",
    "    c = Counter([s[2][1] == 1 for s in v]).most_common()\n",
    "    values[True].append(c[True][1])\n",
    "    values[False].append(c[False][1])\n",
    "    labels.append('Co-sponsor 2')\n",
    "    \n",
    "    c = Counter([s[3][0] == 1 for s in v]).most_common()\n",
    "    values[True].append(c[True][1])\n",
    "    values[False].append(c[False][1])\n",
    "    labels.append('Against 1')\n",
    "    c = Counter([s[3][1] == 1 for s in v]).most_common()\n",
    "    values[True].append(c[True][1])\n",
    "    values[False].append(c[False][1])\n",
    "    labels.append('Against 2')\n",
    "\n",
    "    plt.bar(range(1, 6), values[False], width=0.4, color='b', align='center')\n",
    "    bars = plt.bar(np.arange(1, 6) + 0.4, values[True], width=0.4, color='r', align='center')\n",
    "    for bar in bars:\n",
    "        h = bar.get_height()\n",
    "        if h == 0:\n",
    "            continue\n",
    "        plt.text(bar.get_x() + bar.get_width() / 5, h * 1.1, str('{}'.format(h)))\n",
    "    plt.xticks(range(1, 6), labels)\n",
    "    \n",
    "    plt.title('Votings analysed and NOT analysed from the bills extracted')\n",
    "\n",
    "    plt.show()"
   ]
  },
  {
   "cell_type": "code",
   "execution_count": 72,
   "metadata": {},
   "outputs": [
    {
     "data": {
      "image/png": "[encoded data removed]",
      "text/plain": [
       "<matplotlib.figure.Figure at 0x144086d10>"
      ]
     },
     "metadata": {},
     "output_type": "display_data"
    }
   ],
   "source": [
    "plot_votings_analysed(seanad_votings)"
   ]
  },
  {
   "cell_type": "markdown",
   "metadata": {},
   "source": [
    "From the bills extracted at the Seanad, most of them contain co-sponsors and members against"
   ]
  },
  {
   "cell_type": "code",
   "execution_count": 73,
   "metadata": {
    "collapsed": true
   },
   "outputs": [],
   "source": [
    "def plot_outcome_per_party(outcomes, house):\n",
    "    \n",
    "    df = pd.DataFrame(outcomes)\n",
    "    \n",
    "    grouped = df[df['house'] == house].groupby(['sponsor', 'outcome']).size()\n",
    "    \n",
    "    unstacked = grouped.unstack()\n",
    "    \n",
    "    print unstacked\n",
    "    \n",
    "    unstacked.plot.bar(\n",
    "        stacked=False, colormap= 'Set1_r', figsize=(16, 4), grid=False)\n",
    "    ax = plt.axes()\n",
    "    # x_axis = ax.axes.get_xaxis()\n",
    "    # x_axis.set_ticklabels([])\n",
    "    plt.title('House %s - Votings outcomes per party' % (house))\n",
    "    plt.ylabel('# Votings')\n",
    "    plt.xlabel('Parties')\n",
    "    plt.show()"
   ]
  },
  {
   "cell_type": "code",
   "execution_count": 74,
   "metadata": {
    "scrolled": false
   },
   "outputs": [
    {
     "name": "stdout",
     "output_type": "stream",
     "text": [
      "outcome      Carried  Lost\n",
      "sponsor                   \n",
      "Fianna Fáil     12.0   3.0\n",
      "Fine Gael       48.0   3.0\n",
      "Green Party      NaN   1.0\n",
      "Independent     11.0  27.0\n",
      "Labour           1.0   4.0\n",
      "Sinn Féin        NaN  24.0\n"
     ]
    },
    {
     "data": {
      "image/png": "[encoded data removed]",
      "text/plain": [
       "<matplotlib.figure.Figure at 0x1441228d0>"
      ]
     },
     "metadata": {},
     "output_type": "display_data"
    }
   ],
   "source": [
    "current_house = '25'\n",
    "plot_outcome_per_party(seanad_outcomes, current_house)"
   ]
  },
  {
   "cell_type": "code",
   "execution_count": 75,
   "metadata": {
    "collapsed": true
   },
   "outputs": [],
   "source": [
    "# Dail votings\n",
    "\n",
    "dail_votings, added, not_added, dail_outcomes = get_vote_data(dail_data, deputy_to_id, deputy_id_to_displayname)"
   ]
  },
  {
   "cell_type": "code",
   "execution_count": 76,
   "metadata": {},
   "outputs": [
    {
     "data": {
      "text/plain": [
       "(148744, 3574, 1426, 3574)"
      ]
     },
     "execution_count": 76,
     "metadata": {},
     "output_type": "execute_result"
    }
   ],
   "source": [
    "len(dail_votings), len(added), len(not_added), len(dail_outcomes)"
   ]
  },
  {
   "cell_type": "code",
   "execution_count": 77,
   "metadata": {
    "collapsed": true
   },
   "outputs": [],
   "source": [
    "# dail_votings"
   ]
  },
  {
   "cell_type": "code",
   "execution_count": 78,
   "metadata": {},
   "outputs": [
    {
     "data": {
      "text/plain": [
       "(1, 350, [272, 332], [252, 62])"
      ]
     },
     "execution_count": 78,
     "metadata": {},
     "output_type": "execute_result"
    }
   ],
   "source": [
    "# A particular vote\n",
    "dail_votings[0]"
   ]
  },
  {
   "cell_type": "code",
   "execution_count": 79,
   "metadata": {},
   "outputs": [
    {
     "data": {
      "text/plain": [
       "0.7148"
      ]
     },
     "execution_count": 79,
     "metadata": {},
     "output_type": "execute_result"
    }
   ],
   "source": [
    "float(len(added)) / (len(added) + len(not_added))"
   ]
  },
  {
   "cell_type": "markdown",
   "metadata": {},
   "source": [
    "More than 70% of the votings were extracted which resulted in almost 150K individual votes in the Dail"
   ]
  },
  {
   "cell_type": "code",
   "execution_count": 80,
   "metadata": {},
   "outputs": [
    {
     "data": {
      "text/plain": [
       "(datetime.datetime(1940, 5, 22, 0, 0), datetime.datetime(2017, 11, 30, 0, 0))"
      ]
     },
     "execution_count": 80,
     "metadata": {},
     "output_type": "execute_result"
    }
   ],
   "source": [
    "min(added), max(added)"
   ]
  },
  {
   "cell_type": "code",
   "execution_count": 81,
   "metadata": {},
   "outputs": [
    {
     "data": {
      "text/plain": [
       "(datetime.datetime(1940, 5, 22, 0, 0), datetime.datetime(2008, 12, 3, 0, 0))"
      ]
     },
     "execution_count": 81,
     "metadata": {},
     "output_type": "execute_result"
    }
   ],
   "source": [
    "min(not_added), max(not_added)"
   ]
  },
  {
   "cell_type": "code",
   "execution_count": 82,
   "metadata": {
    "scrolled": true
   },
   "outputs": [
    {
     "data": {
      "image/png": "[encoded data removed]",
      "text/plain": [
       "<matplotlib.figure.Figure at 0x1448b2b90>"
      ]
     },
     "metadata": {},
     "output_type": "display_data"
    }
   ],
   "source": [
    "plot_bills_analysed(added, not_added)"
   ]
  },
  {
   "cell_type": "code",
   "execution_count": 83,
   "metadata": {},
   "outputs": [
    {
     "data": {
      "text/plain": [
       "Counter({False: 148744})"
      ]
     },
     "execution_count": 83,
     "metadata": {},
     "output_type": "execute_result"
    }
   ],
   "source": [
    "Counter([s[1] == 1 for s in dail_votings])"
   ]
  },
  {
   "cell_type": "code",
   "execution_count": 84,
   "metadata": {},
   "outputs": [
    {
     "data": {
      "text/plain": [
       "[(False, 100332), (True, 48412)]"
      ]
     },
     "execution_count": 84,
     "metadata": {},
     "output_type": "execute_result"
    }
   ],
   "source": [
    "Counter([s[2][0] == 1 for s in dail_votings]).most_common()"
   ]
  },
  {
   "cell_type": "code",
   "execution_count": 85,
   "metadata": {},
   "outputs": [
    {
     "data": {
      "image/png": "[encoded data removed]",
      "text/plain": [
       "<matplotlib.figure.Figure at 0x144882a90>"
      ]
     },
     "metadata": {},
     "output_type": "display_data"
    }
   ],
   "source": [
    "plot_votings_analysed(dail_votings)"
   ]
  },
  {
   "cell_type": "code",
   "execution_count": 86,
   "metadata": {
    "collapsed": true
   },
   "outputs": [],
   "source": [
    "# current_house = '32'\n",
    "# df = pd.DataFrame(dail_outcomes)\n",
    "# print df.house.unique()\n",
    "# df[df['house'] == current_house].groupby(['sponsor', 'outcome']).count()"
   ]
  },
  {
   "cell_type": "code",
   "execution_count": 87,
   "metadata": {},
   "outputs": [
    {
     "name": "stdout",
     "output_type": "stream",
     "text": [
      "outcome                                         Carried  Lost    _\n",
      "sponsor                                                           \n",
      "Anti-Austerity Alliance - People Before Profit      NaN   9.0  1.0\n",
      "Fianna Fáil                                        17.0  12.0  NaN\n",
      "Fine Gael                                          96.0  27.0  1.0\n",
      "Green Party                                         NaN   2.0  NaN\n",
      "Independent                                         1.0   9.0  NaN\n",
      "Independents 4 Change                               NaN  23.0  NaN\n",
      "Labour                                              2.0   5.0  NaN\n",
      "Sinn Féin                                           2.0  42.0  NaN\n",
      "Social Democrats                                    NaN   6.0  NaN\n",
      "Solidarity - People Before Profit                   NaN  28.0  NaN\n"
     ]
    },
    {
     "data": {
      "image/png": "[encoded data removed]",
      "text/plain": [
       "<matplotlib.figure.Figure at 0x1469e7a50>"
      ]
     },
     "metadata": {},
     "output_type": "display_data"
    }
   ],
   "source": [
    "current_house = '32'\n",
    "plot_outcome_per_party(dail_outcomes, current_house)"
   ]
  },
  {
   "cell_type": "markdown",
   "metadata": {},
   "source": [
    "Total of individual votes extracted per house:"
   ]
  },
  {
   "cell_type": "code",
   "execution_count": 88,
   "metadata": {},
   "outputs": [
    {
     "data": {
      "text/plain": [
       "('Seanad votings 75,487', 'Dail votings 148,744')"
      ]
     },
     "execution_count": 88,
     "metadata": {},
     "output_type": "execute_result"
    }
   ],
   "source": [
    "'Seanad votings {:,}'.format(len(seanad_votings)), 'Dail votings {:,}'.format(len(dail_votings))"
   ]
  },
  {
   "cell_type": "markdown",
   "metadata": {},
   "source": [
    "### Senate votings"
   ]
  },
  {
   "cell_type": "markdown",
   "metadata": {},
   "source": [
    "~75 examples of (vote, senator voting, sponsor, cosponsor, against, coagainst) tuples"
   ]
  },
  {
   "cell_type": "code",
   "execution_count": 89,
   "metadata": {
    "collapsed": true
   },
   "outputs": [],
   "source": [
    "y = [d[0] for d in seanad_votings]"
   ]
  },
  {
   "cell_type": "code",
   "execution_count": 90,
   "metadata": {},
   "outputs": [
    {
     "data": {
      "text/plain": [
       "Counter({0: 36729, 1: 38758})"
      ]
     },
     "execution_count": 90,
     "metadata": {},
     "output_type": "execute_result"
    }
   ],
   "source": [
    "# len(y)\n",
    "Counter(y)"
   ]
  },
  {
   "cell_type": "code",
   "execution_count": 91,
   "metadata": {
    "collapsed": true
   },
   "outputs": [],
   "source": [
    "# Padding or cropping\n",
    "# Not needed as all the votes have the same numer of sponsors (2) and against (2)\n",
    "limit = 2\n",
    "def pad_or_crop(lst, l=limit):\n",
    "    return (lst + [0] * l)[:limit]"
   ]
  },
  {
   "cell_type": "code",
   "execution_count": 92,
   "metadata": {
    "collapsed": true
   },
   "outputs": [],
   "source": [
    "x_1 = np.array(map(lambda x: x[1], seanad_votings))\n",
    "x_2 = np.array(map(lambda x: pad_or_crop(x[2]), seanad_votings))\n",
    "x_3 = np.array(map(lambda x: pad_or_crop(x[3]), seanad_votings))\n",
    "x = [x_1, x_2, x_3]"
   ]
  },
  {
   "cell_type": "code",
   "execution_count": 93,
   "metadata": {
    "collapsed": true
   },
   "outputs": [],
   "source": [
    "# len(x)"
   ]
  },
  {
   "cell_type": "code",
   "execution_count": 94,
   "metadata": {
    "collapsed": true
   },
   "outputs": [],
   "source": [
    "# we add in padding and unknown senators\n",
    "senator_id_to_displayname[0] = '<PAD>'\n",
    "senator_id_to_displayname[1] = '<NOT A SENATOR>'"
   ]
  },
  {
   "cell_type": "code",
   "execution_count": 95,
   "metadata": {
    "collapsed": true
   },
   "outputs": [],
   "source": [
    "# senator_id_to_displayname"
   ]
  },
  {
   "cell_type": "code",
   "execution_count": 96,
   "metadata": {},
   "outputs": [
    {
     "data": {
      "text/plain": [
       "199"
      ]
     },
     "execution_count": 96,
     "metadata": {},
     "output_type": "execute_result"
    }
   ],
   "source": [
    "# this gives us how many representations:\n",
    "len(senator_id_to_displayname)"
   ]
  },
  {
   "cell_type": "code",
   "execution_count": 97,
   "metadata": {
    "collapsed": true
   },
   "outputs": [],
   "source": [
    "# we again need to write down the metadata\n",
    "with open('%s/senator_metadata.csv' % (data_path), 'wb') as csvfile:\n",
    "    writer = csv.writer(csvfile, delimiter='\\t')\n",
    "    for key, value in sorted(senator_id_to_displayname.items()):\n",
    "        writer.writerow([value.encode('utf8')])"
   ]
  },
  {
   "cell_type": "code",
   "execution_count": 98,
   "metadata": {},
   "outputs": [
    {
     "name": "stderr",
     "output_type": "stream",
     "text": [
      "Using TensorFlow backend.\n"
     ]
    }
   ],
   "source": [
    "# finally we build our model\n",
    "from keras.layers import concatenate\n",
    "from keras.layers import Dense, Input, Flatten\n",
    "from keras.layers import MaxPooling1D, Embedding\n",
    "\n",
    "embedding_layer = Embedding(len(senator_id_to_displayname), 100)\n",
    "\n",
    "# train a 1D convnet with global maxpooling\n",
    "voting = voting_input = Input(shape=(1,), dtype='int32')\n",
    "voting = embedding_layer(voting)\n",
    "voting = Dense(32, activation='relu')(voting)\n",
    "voting = Dense(32, activation='relu')(voting)\n",
    "\n",
    "sponsor = sponsor_input = Input(shape=(limit,), dtype='int32')\n",
    "sponsor = embedding_layer(sponsor)\n",
    "sponsor = MaxPooling1D(limit)(sponsor)\n",
    "sponsor = Dense(32, activation='relu')(sponsor)\n",
    "sponsor = Dense(32, activation='relu')(sponsor)\n",
    "\n",
    "cosponsor = cosponsor_input = Input(shape=(limit,), dtype='int32')\n",
    "cosponsor = embedding_layer(cosponsor)\n",
    "cosponsor = MaxPooling1D(limit)(cosponsor)\n",
    "cosponsor = Dense(32, activation='relu')(cosponsor)\n",
    "cosponsor = Dense(32, activation='relu')(cosponsor)\n",
    "\n",
    "combined = concatenate([voting, sponsor, cosponsor])\n",
    "combined = Dense(32, activation='relu')(combined)\n",
    "combined = Dense(1, activation='sigmoid')(combined)"
   ]
  },
  {
   "cell_type": "code",
   "execution_count": 99,
   "metadata": {
    "scrolled": false
   },
   "outputs": [
    {
     "name": "stdout",
     "output_type": "stream",
     "text": [
      "Train on 60389 samples, validate on 15098 samples\n",
      "Epoch 1/10\n",
      "60389/60389 [==============================] - 4s 59us/step - loss: 0.2789 - acc: 0.8800 - val_loss: 0.4404 - val_acc: 0.8270\n",
      "Epoch 2/10\n",
      "60389/60389 [==============================] - 3s 54us/step - loss: 0.1470 - acc: 0.9460 - val_loss: 0.3496 - val_acc: 0.8801\n",
      "Epoch 3/10\n",
      "60389/60389 [==============================] - 4s 61us/step - loss: 0.1278 - acc: 0.9505 - val_loss: 0.3566 - val_acc: 0.8826\n",
      "Epoch 4/10\n",
      "60389/60389 [==============================] - 3s 54us/step - loss: 0.1204 - acc: 0.9526 - val_loss: 0.3199 - val_acc: 0.8876\n",
      "Epoch 5/10\n",
      "60389/60389 [==============================] - 3s 54us/step - loss: 0.1158 - acc: 0.9540 - val_loss: 0.3062 - val_acc: 0.8912\n",
      "Epoch 6/10\n",
      "60389/60389 [==============================] - 4s 65us/step - loss: 0.1125 - acc: 0.9548 - val_loss: 0.3240 - val_acc: 0.9005\n",
      "Epoch 7/10\n",
      "60389/60389 [==============================] - 4s 62us/step - loss: 0.1098 - acc: 0.9561 - val_loss: 0.3215 - val_acc: 0.8998\n",
      "Epoch 8/10\n",
      "60389/60389 [==============================] - 4s 58us/step - loss: 0.1083 - acc: 0.9563 - val_loss: 0.3277 - val_acc: 0.9012\n",
      "Epoch 9/10\n",
      "60389/60389 [==============================] - 4s 64us/step - loss: 0.1067 - acc: 0.9571 - val_loss: 0.3581 - val_acc: 0.8923\n",
      "Epoch 10/10\n",
      "60389/60389 [==============================] - 3s 54us/step - loss: 0.1053 - acc: 0.9578 - val_loss: 0.3535 - val_acc: 0.8991\n"
     ]
    },
    {
     "data": {
      "text/plain": [
       "<keras.callbacks.History at 0x114662c50>"
      ]
     },
     "execution_count": 99,
     "metadata": {},
     "output_type": "execute_result"
    }
   ],
   "source": [
    "from keras.models import Model\n",
    "from keras.callbacks import TensorBoard\n",
    "\n",
    "model = Model([voting_input, sponsor_input, cosponsor_input], combined)\n",
    "\n",
    "model.compile(loss='binary_crossentropy',\n",
    "              optimizer='rmsprop',\n",
    "              metrics=['acc'])\n",
    "\n",
    "embedding_metadata = {\n",
    "    embedding_layer.name: '../senator_metadata.csv'\n",
    "}\n",
    "\n",
    "model.fit([x_1, x_2, x_3], np.array(y).reshape(-1, 1, 1),\n",
    "          batch_size=128,\n",
    "          epochs=10,\n",
    "          validation_split=0.2,\n",
    "          callbacks=[TensorBoard(log_dir='%s/senator_reps' % (data_path), \n",
    "                                 embeddings_freq=1,\n",
    "                                 embeddings_metadata=embedding_metadata)])"
   ]
  },
  {
   "cell_type": "markdown",
   "metadata": {},
   "source": [
    "In data/congress/Ireland, launch TensorBoard:\n",
    "    \n",
    "> $ tensorboard --logdir=senator_reps/\n",
    "\n",
    "Go to TensorBoard:\n",
    "\n",
    "> http://localhost:6006/#projector\n",
    "        \n",
    "In TensorBoard, we can look at the representations created in our model using t-SNE or PCA."
   ]
  },
  {
   "cell_type": "markdown",
   "metadata": {},
   "source": [
    "### Dail votings"
   ]
  },
  {
   "cell_type": "markdown",
   "metadata": {},
   "source": [
    "~100K examples of (vote, senator voting, sponsor, cosponsor, against, coagainst) tuples."
   ]
  },
  {
   "cell_type": "code",
   "execution_count": 100,
   "metadata": {
    "collapsed": true
   },
   "outputs": [],
   "source": [
    "y = [d[0] for d in dail_votings]"
   ]
  },
  {
   "cell_type": "code",
   "execution_count": 101,
   "metadata": {},
   "outputs": [
    {
     "data": {
      "text/plain": [
       "Counter({0: 69948, 1: 78796})"
      ]
     },
     "execution_count": 101,
     "metadata": {},
     "output_type": "execute_result"
    }
   ],
   "source": [
    "# len(y)\n",
    "Counter(y)"
   ]
  },
  {
   "cell_type": "code",
   "execution_count": 102,
   "metadata": {
    "collapsed": true
   },
   "outputs": [],
   "source": [
    "x_1 = np.array(map(lambda x: x[1], dail_votings))\n",
    "x_2 = np.array(map(lambda x: pad_or_crop(x[2]), dail_votings))\n",
    "x_3 = np.array(map(lambda x: pad_or_crop(x[3]), dail_votings))\n",
    "x = [x_1, x_2, x_3]"
   ]
  },
  {
   "cell_type": "code",
   "execution_count": 103,
   "metadata": {
    "collapsed": true
   },
   "outputs": [],
   "source": [
    "# we add in padding and unknown senators\n",
    "deputy_id_to_displayname[0] = '<PAD>'\n",
    "deputy_id_to_displayname[1] = '<NOT A DEPUTY>'"
   ]
  },
  {
   "cell_type": "code",
   "execution_count": 104,
   "metadata": {
    "collapsed": true
   },
   "outputs": [],
   "source": [
    "# deputy_id_to_displayname"
   ]
  },
  {
   "cell_type": "code",
   "execution_count": 105,
   "metadata": {},
   "outputs": [
    {
     "data": {
      "text/plain": [
       "374"
      ]
     },
     "execution_count": 105,
     "metadata": {},
     "output_type": "execute_result"
    }
   ],
   "source": [
    "len(deputy_id_to_displayname)"
   ]
  },
  {
   "cell_type": "code",
   "execution_count": 106,
   "metadata": {
    "collapsed": true
   },
   "outputs": [],
   "source": [
    "# we again need to write down the metadata\n",
    "with open('%s/deputy_metadata.csv' % (data_path), 'wb') as csvfile:\n",
    "    writer = csv.writer(csvfile, delimiter='\\t')\n",
    "    for key, value in sorted(deputy_id_to_displayname.items()):\n",
    "        writer.writerow([value.encode('utf8')])"
   ]
  },
  {
   "cell_type": "code",
   "execution_count": 107,
   "metadata": {
    "collapsed": true
   },
   "outputs": [],
   "source": [
    "# finally we build our model\n",
    "from keras.layers import concatenate\n",
    "from keras.layers import Dense, Input, Flatten\n",
    "from keras.layers import MaxPooling1D, Embedding\n",
    "\n",
    "embedding_layer = Embedding(len(deputy_id_to_displayname), 100)\n",
    "\n",
    "# train a 1D convnet with global maxpooling\n",
    "voting = voting_input = Input(shape=(1,), dtype='int32')\n",
    "voting = embedding_layer(voting)\n",
    "voting = Dense(32, activation='relu')(voting)\n",
    "voting = Dense(32, activation='relu')(voting)\n",
    "\n",
    "sponsor = sponsor_input = Input(shape=(limit,), dtype='int32')\n",
    "sponsor = embedding_layer(sponsor)\n",
    "sponsor = MaxPooling1D(limit)(sponsor)\n",
    "sponsor = Dense(32, activation='relu')(sponsor)\n",
    "sponsor = Dense(32, activation='relu')(sponsor)\n",
    "\n",
    "cosponsor = cosponsor_input = Input(shape=(limit,), dtype='int32')\n",
    "cosponsor = embedding_layer(cosponsor)\n",
    "cosponsor = MaxPooling1D(limit)(cosponsor)\n",
    "cosponsor = Dense(32, activation='relu')(cosponsor)\n",
    "cosponsor = Dense(32, activation='relu')(cosponsor)\n",
    "\n",
    "combined = concatenate([voting, sponsor, cosponsor])\n",
    "combined = Dense(32, activation='relu')(combined)\n",
    "combined = Dense(1, activation='sigmoid')(combined)"
   ]
  },
  {
   "cell_type": "code",
   "execution_count": 108,
   "metadata": {},
   "outputs": [
    {
     "name": "stdout",
     "output_type": "stream",
     "text": [
      "Train on 118995 samples, validate on 29749 samples\n",
      "Epoch 1/10\n",
      "118995/118995 [==============================] - 7s 57us/step - loss: 0.2787 - acc: 0.8806 - val_loss: 0.4853 - val_acc: 0.8171\n",
      "Epoch 2/10\n",
      "118995/118995 [==============================] - 7s 60us/step - loss: 0.2099 - acc: 0.9208 - val_loss: 0.4736 - val_acc: 0.8190\n",
      "Epoch 3/10\n",
      "118995/118995 [==============================] - 7s 57us/step - loss: 0.1818 - acc: 0.9292 - val_loss: 0.4795 - val_acc: 0.8207\n",
      "Epoch 4/10\n",
      "118995/118995 [==============================] - 7s 60us/step - loss: 0.1689 - acc: 0.9340 - val_loss: 0.4773 - val_acc: 0.8198\n",
      "Epoch 5/10\n",
      "118995/118995 [==============================] - 7s 61us/step - loss: 0.1616 - acc: 0.9369 - val_loss: 0.4767 - val_acc: 0.8173\n",
      "Epoch 6/10\n",
      "118995/118995 [==============================] - 7s 56us/step - loss: 0.1571 - acc: 0.9386 - val_loss: 0.4773 - val_acc: 0.8188\n",
      "Epoch 7/10\n",
      "118995/118995 [==============================] - 7s 61us/step - loss: 0.1541 - acc: 0.9398 - val_loss: 0.4790 - val_acc: 0.8173\n",
      "Epoch 8/10\n",
      "118995/118995 [==============================] - 7s 59us/step - loss: 0.1520 - acc: 0.9407 - val_loss: 0.4772 - val_acc: 0.8184\n",
      "Epoch 9/10\n",
      "118995/118995 [==============================] - 7s 59us/step - loss: 0.1493 - acc: 0.9414 - val_loss: 0.4870 - val_acc: 0.8149\n",
      "Epoch 10/10\n",
      "118995/118995 [==============================] - 7s 57us/step - loss: 0.1481 - acc: 0.9419 - val_loss: 0.4785 - val_acc: 0.8181\n"
     ]
    },
    {
     "data": {
      "text/plain": [
       "<keras.callbacks.History at 0x1a50ced6d0>"
      ]
     },
     "execution_count": 108,
     "metadata": {},
     "output_type": "execute_result"
    }
   ],
   "source": [
    "from keras.models import Model\n",
    "from keras.callbacks import TensorBoard\n",
    "\n",
    "model = Model([voting_input, sponsor_input, cosponsor_input], combined)\n",
    "\n",
    "model.compile(loss='binary_crossentropy',\n",
    "              optimizer='rmsprop',\n",
    "              metrics=['acc'])\n",
    "\n",
    "embedding_metadata = {\n",
    "    embedding_layer.name: '../deputy_metadata.csv'\n",
    "}\n",
    "\n",
    "model.fit([x_1, x_2, x_3], np.array(y).reshape(-1, 1, 1),\n",
    "          batch_size=128,\n",
    "          epochs=10,\n",
    "          validation_split=0.2,\n",
    "          callbacks=[TensorBoard(log_dir='%s/deputy_reps' % (data_path), \n",
    "                                 embeddings_freq=1,\n",
    "                                 embeddings_metadata=embedding_metadata)])"
   ]
  },
  {
   "cell_type": "markdown",
   "metadata": {},
   "source": [
    "In data/congress/Ireland, launch TensorBoard:\n",
    "    \n",
    "> $ tensorboard --logdir=deputy_reps/"
   ]
  },
  {
   "cell_type": "markdown",
   "metadata": {
    "collapsed": true
   },
   "source": [
    "### Utils"
   ]
  },
  {
   "cell_type": "code",
   "execution_count": 109,
   "metadata": {},
   "outputs": [
    {
     "name": "stdout",
     "output_type": "stream",
     "text": [
      "True\n",
      "á\n",
      "True\n",
      "True\n",
      "True\n"
     ]
    }
   ],
   "source": [
    "print '\\xc3\\xa1' == str('á')\n",
    "print str('á').decode('utf-8').encode('utf-8')\n",
    "print str('á').decode('utf-8').encode('utf-8') == str('\\xc3\\xa1')\n",
    "print str('Tá').decode('utf-8').encode('utf-8') == str('T\\xc3\\xa1')\n",
    "print str('Níl').decode('utf-8').encode('utf-8') == str('N\\xc3\\xadl')"
   ]
  }
 ],
 "metadata": {
  "kernelspec": {
   "display_name": "Python 2",
   "language": "python",
   "name": "python2"
  },
  "language_info": {
   "codemirror_mode": {
    "name": "ipython",
    "version": 2
   },
   "file_extension": ".py",
   "mimetype": "text/x-python",
   "name": "python",
   "nbconvert_exporter": "python",
   "pygments_lexer": "ipython2",
   "version": "2.7.14"
  }
 },
 "nbformat": 4,
 "nbformat_minor": 2
}
